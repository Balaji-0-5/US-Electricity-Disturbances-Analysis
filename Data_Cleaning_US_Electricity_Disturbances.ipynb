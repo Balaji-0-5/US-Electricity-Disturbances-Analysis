{
  "nbformat": 4,
  "nbformat_minor": 0,
  "metadata": {
    "colab": {
      "provenance": []
    },
    "kernelspec": {
      "name": "python3",
      "display_name": "Python 3"
    },
    "language_info": {
      "name": "python"
    }
  },
  "cells": [
    {
      "cell_type": "markdown",
      "source": [
        "**US Electrical Disturbances (2019-2023)**\n",
        "\n",
        "**Data source** : https://www.oe.netl.doe.gov/OE417_annual_summary.aspx"
      ],
      "metadata": {
        "id": "Fha3jXvLk1AP"
      }
    },
    {
      "cell_type": "markdown",
      "source": [
        "###Imports"
      ],
      "metadata": {
        "id": "-qBgna6WmqZG"
      }
    },
    {
      "cell_type": "code",
      "execution_count": 31,
      "metadata": {
        "id": "ZOvIVZZtJigp"
      },
      "outputs": [],
      "source": [
        "import pandas as pd\n",
        "import os\n",
        "import xlrd"
      ]
    },
    {
      "cell_type": "markdown",
      "source": [
        "###Ignore Warnings"
      ],
      "metadata": {
        "id": "G7vSTzFfwnnr"
      }
    },
    {
      "cell_type": "code",
      "source": [
        "import warnings\n",
        "warnings.filterwarnings('ignore')"
      ],
      "metadata": {
        "id": "6-_Ly_Nlwt-V"
      },
      "execution_count": 32,
      "outputs": []
    },
    {
      "cell_type": "markdown",
      "source": [
        "###Import Data and concatenate data from several sheets into single dataframe"
      ],
      "metadata": {
        "id": "hRKGHRGxmL-y"
      }
    },
    {
      "cell_type": "code",
      "source": [
        "years = list(range(2019,2024,1))\n",
        "\n",
        "data_frames = []\n",
        "\n",
        "for year in years:\n",
        "    file_path=f\"/content/Data/{year}_Annual_Summary.xls\"\n",
        "    wb = xlrd.open_workbook(file_path, logfile=open(os.devnull, 'w')) #This line was added to supress xls warnings\n",
        "    sheet_df = pd.read_excel(wb,header=1)\n",
        "    sheet_df['Year'] = year\n",
        "    data_frames.append(sheet_df)\n",
        "\n",
        "\n",
        "# Concatenate all the DataFrames into one\n",
        "combined_df = pd.concat(data_frames, ignore_index=True, axis=0)\n",
        "combined_df.head()"
      ],
      "metadata": {
        "colab": {
          "base_uri": "https://localhost:8080/",
          "height": 539
        },
        "id": "ODgUfvswlt_W",
        "outputId": "08972f4c-4a5e-4a6d-e311-1c84e34b726b"
      },
      "execution_count": 33,
      "outputs": [
        {
          "output_type": "execute_result",
          "data": {
            "text/plain": [
              "      Month Date Event Began Time Event Began Date of Restoration  \\\n",
              "0  January        01/05/2019         13:19:00          01/05/2019   \n",
              "1   January       01/06/2019         03:00:00          01/09/2019   \n",
              "2   January       01/06/2019         17:56:00          01/06/2019   \n",
              "3   January       01/06/2019         01:00:00          01/06/2019   \n",
              "4   January       01/07/2019         20:57:00          01/07/2019   \n",
              "\n",
              "  Time of Restoration                                      Area Affected  \\\n",
              "0            15:07:00                                        Washington:   \n",
              "1            07:00:00                                        Washington:   \n",
              "2            21:52:00                     California: Sacramento County;   \n",
              "3            12:00:00  Washington: King County, Thurston County, Pier...   \n",
              "4            21:32:00                                          Michigan:   \n",
              "\n",
              "  NERC Region                                     Alert Criteria  \\\n",
              "0        WECC  Complete loss of Interpersonal Communication a...   \n",
              "1        WECC  Loss of electric service to more than 50,000 c...   \n",
              "2        WECC  Loss of electric service to more than 50,000 c...   \n",
              "3        WECC  Loss of electric service to more than 50,000 c...   \n",
              "4          RF  Complete loss of monitoring or control capabil...   \n",
              "\n",
              "          Event Type Demand Loss (MW) Number of Customers Affected  Year  \n",
              "0  System Operations                0                      Unknown  2019  \n",
              "1     Severe Weather              230                       230000  2019  \n",
              "2     Severe Weather              300                        90382  2019  \n",
              "3     Severe Weather          Unknown                       230000  2019  \n",
              "4  System Operations                0                            0  2019  "
            ],
            "text/html": [
              "\n",
              "  <div id=\"df-4dfd8714-4c30-4082-8512-bb4f36cfc45e\" class=\"colab-df-container\">\n",
              "    <div>\n",
              "<style scoped>\n",
              "    .dataframe tbody tr th:only-of-type {\n",
              "        vertical-align: middle;\n",
              "    }\n",
              "\n",
              "    .dataframe tbody tr th {\n",
              "        vertical-align: top;\n",
              "    }\n",
              "\n",
              "    .dataframe thead th {\n",
              "        text-align: right;\n",
              "    }\n",
              "</style>\n",
              "<table border=\"1\" class=\"dataframe\">\n",
              "  <thead>\n",
              "    <tr style=\"text-align: right;\">\n",
              "      <th></th>\n",
              "      <th>Month</th>\n",
              "      <th>Date Event Began</th>\n",
              "      <th>Time Event Began</th>\n",
              "      <th>Date of Restoration</th>\n",
              "      <th>Time of Restoration</th>\n",
              "      <th>Area Affected</th>\n",
              "      <th>NERC Region</th>\n",
              "      <th>Alert Criteria</th>\n",
              "      <th>Event Type</th>\n",
              "      <th>Demand Loss (MW)</th>\n",
              "      <th>Number of Customers Affected</th>\n",
              "      <th>Year</th>\n",
              "    </tr>\n",
              "  </thead>\n",
              "  <tbody>\n",
              "    <tr>\n",
              "      <th>0</th>\n",
              "      <td>January</td>\n",
              "      <td>01/05/2019</td>\n",
              "      <td>13:19:00</td>\n",
              "      <td>01/05/2019</td>\n",
              "      <td>15:07:00</td>\n",
              "      <td>Washington:</td>\n",
              "      <td>WECC</td>\n",
              "      <td>Complete loss of Interpersonal Communication a...</td>\n",
              "      <td>System Operations</td>\n",
              "      <td>0</td>\n",
              "      <td>Unknown</td>\n",
              "      <td>2019</td>\n",
              "    </tr>\n",
              "    <tr>\n",
              "      <th>1</th>\n",
              "      <td>January</td>\n",
              "      <td>01/06/2019</td>\n",
              "      <td>03:00:00</td>\n",
              "      <td>01/09/2019</td>\n",
              "      <td>07:00:00</td>\n",
              "      <td>Washington:</td>\n",
              "      <td>WECC</td>\n",
              "      <td>Loss of electric service to more than 50,000 c...</td>\n",
              "      <td>Severe Weather</td>\n",
              "      <td>230</td>\n",
              "      <td>230000</td>\n",
              "      <td>2019</td>\n",
              "    </tr>\n",
              "    <tr>\n",
              "      <th>2</th>\n",
              "      <td>January</td>\n",
              "      <td>01/06/2019</td>\n",
              "      <td>17:56:00</td>\n",
              "      <td>01/06/2019</td>\n",
              "      <td>21:52:00</td>\n",
              "      <td>California: Sacramento County;</td>\n",
              "      <td>WECC</td>\n",
              "      <td>Loss of electric service to more than 50,000 c...</td>\n",
              "      <td>Severe Weather</td>\n",
              "      <td>300</td>\n",
              "      <td>90382</td>\n",
              "      <td>2019</td>\n",
              "    </tr>\n",
              "    <tr>\n",
              "      <th>3</th>\n",
              "      <td>January</td>\n",
              "      <td>01/06/2019</td>\n",
              "      <td>01:00:00</td>\n",
              "      <td>01/06/2019</td>\n",
              "      <td>12:00:00</td>\n",
              "      <td>Washington: King County, Thurston County, Pier...</td>\n",
              "      <td>WECC</td>\n",
              "      <td>Loss of electric service to more than 50,000 c...</td>\n",
              "      <td>Severe Weather</td>\n",
              "      <td>Unknown</td>\n",
              "      <td>230000</td>\n",
              "      <td>2019</td>\n",
              "    </tr>\n",
              "    <tr>\n",
              "      <th>4</th>\n",
              "      <td>January</td>\n",
              "      <td>01/07/2019</td>\n",
              "      <td>20:57:00</td>\n",
              "      <td>01/07/2019</td>\n",
              "      <td>21:32:00</td>\n",
              "      <td>Michigan:</td>\n",
              "      <td>RF</td>\n",
              "      <td>Complete loss of monitoring or control capabil...</td>\n",
              "      <td>System Operations</td>\n",
              "      <td>0</td>\n",
              "      <td>0</td>\n",
              "      <td>2019</td>\n",
              "    </tr>\n",
              "  </tbody>\n",
              "</table>\n",
              "</div>\n",
              "    <div class=\"colab-df-buttons\">\n",
              "\n",
              "  <div class=\"colab-df-container\">\n",
              "    <button class=\"colab-df-convert\" onclick=\"convertToInteractive('df-4dfd8714-4c30-4082-8512-bb4f36cfc45e')\"\n",
              "            title=\"Convert this dataframe to an interactive table.\"\n",
              "            style=\"display:none;\">\n",
              "\n",
              "  <svg xmlns=\"http://www.w3.org/2000/svg\" height=\"24px\" viewBox=\"0 -960 960 960\">\n",
              "    <path d=\"M120-120v-720h720v720H120Zm60-500h600v-160H180v160Zm220 220h160v-160H400v160Zm0 220h160v-160H400v160ZM180-400h160v-160H180v160Zm440 0h160v-160H620v160ZM180-180h160v-160H180v160Zm440 0h160v-160H620v160Z\"/>\n",
              "  </svg>\n",
              "    </button>\n",
              "\n",
              "  <style>\n",
              "    .colab-df-container {\n",
              "      display:flex;\n",
              "      gap: 12px;\n",
              "    }\n",
              "\n",
              "    .colab-df-convert {\n",
              "      background-color: #E8F0FE;\n",
              "      border: none;\n",
              "      border-radius: 50%;\n",
              "      cursor: pointer;\n",
              "      display: none;\n",
              "      fill: #1967D2;\n",
              "      height: 32px;\n",
              "      padding: 0 0 0 0;\n",
              "      width: 32px;\n",
              "    }\n",
              "\n",
              "    .colab-df-convert:hover {\n",
              "      background-color: #E2EBFA;\n",
              "      box-shadow: 0px 1px 2px rgba(60, 64, 67, 0.3), 0px 1px 3px 1px rgba(60, 64, 67, 0.15);\n",
              "      fill: #174EA6;\n",
              "    }\n",
              "\n",
              "    .colab-df-buttons div {\n",
              "      margin-bottom: 4px;\n",
              "    }\n",
              "\n",
              "    [theme=dark] .colab-df-convert {\n",
              "      background-color: #3B4455;\n",
              "      fill: #D2E3FC;\n",
              "    }\n",
              "\n",
              "    [theme=dark] .colab-df-convert:hover {\n",
              "      background-color: #434B5C;\n",
              "      box-shadow: 0px 1px 3px 1px rgba(0, 0, 0, 0.15);\n",
              "      filter: drop-shadow(0px 1px 2px rgba(0, 0, 0, 0.3));\n",
              "      fill: #FFFFFF;\n",
              "    }\n",
              "  </style>\n",
              "\n",
              "    <script>\n",
              "      const buttonEl =\n",
              "        document.querySelector('#df-4dfd8714-4c30-4082-8512-bb4f36cfc45e button.colab-df-convert');\n",
              "      buttonEl.style.display =\n",
              "        google.colab.kernel.accessAllowed ? 'block' : 'none';\n",
              "\n",
              "      async function convertToInteractive(key) {\n",
              "        const element = document.querySelector('#df-4dfd8714-4c30-4082-8512-bb4f36cfc45e');\n",
              "        const dataTable =\n",
              "          await google.colab.kernel.invokeFunction('convertToInteractive',\n",
              "                                                    [key], {});\n",
              "        if (!dataTable) return;\n",
              "\n",
              "        const docLinkHtml = 'Like what you see? Visit the ' +\n",
              "          '<a target=\"_blank\" href=https://colab.research.google.com/notebooks/data_table.ipynb>data table notebook</a>'\n",
              "          + ' to learn more about interactive tables.';\n",
              "        element.innerHTML = '';\n",
              "        dataTable['output_type'] = 'display_data';\n",
              "        await google.colab.output.renderOutput(dataTable, element);\n",
              "        const docLink = document.createElement('div');\n",
              "        docLink.innerHTML = docLinkHtml;\n",
              "        element.appendChild(docLink);\n",
              "      }\n",
              "    </script>\n",
              "  </div>\n",
              "\n",
              "\n",
              "<div id=\"df-08cc66fb-f036-4e9b-8951-b83d0dadb596\">\n",
              "  <button class=\"colab-df-quickchart\" onclick=\"quickchart('df-08cc66fb-f036-4e9b-8951-b83d0dadb596')\"\n",
              "            title=\"Suggest charts\"\n",
              "            style=\"display:none;\">\n",
              "\n",
              "<svg xmlns=\"http://www.w3.org/2000/svg\" height=\"24px\"viewBox=\"0 0 24 24\"\n",
              "     width=\"24px\">\n",
              "    <g>\n",
              "        <path d=\"M19 3H5c-1.1 0-2 .9-2 2v14c0 1.1.9 2 2 2h14c1.1 0 2-.9 2-2V5c0-1.1-.9-2-2-2zM9 17H7v-7h2v7zm4 0h-2V7h2v10zm4 0h-2v-4h2v4z\"/>\n",
              "    </g>\n",
              "</svg>\n",
              "  </button>\n",
              "\n",
              "<style>\n",
              "  .colab-df-quickchart {\n",
              "      --bg-color: #E8F0FE;\n",
              "      --fill-color: #1967D2;\n",
              "      --hover-bg-color: #E2EBFA;\n",
              "      --hover-fill-color: #174EA6;\n",
              "      --disabled-fill-color: #AAA;\n",
              "      --disabled-bg-color: #DDD;\n",
              "  }\n",
              "\n",
              "  [theme=dark] .colab-df-quickchart {\n",
              "      --bg-color: #3B4455;\n",
              "      --fill-color: #D2E3FC;\n",
              "      --hover-bg-color: #434B5C;\n",
              "      --hover-fill-color: #FFFFFF;\n",
              "      --disabled-bg-color: #3B4455;\n",
              "      --disabled-fill-color: #666;\n",
              "  }\n",
              "\n",
              "  .colab-df-quickchart {\n",
              "    background-color: var(--bg-color);\n",
              "    border: none;\n",
              "    border-radius: 50%;\n",
              "    cursor: pointer;\n",
              "    display: none;\n",
              "    fill: var(--fill-color);\n",
              "    height: 32px;\n",
              "    padding: 0;\n",
              "    width: 32px;\n",
              "  }\n",
              "\n",
              "  .colab-df-quickchart:hover {\n",
              "    background-color: var(--hover-bg-color);\n",
              "    box-shadow: 0 1px 2px rgba(60, 64, 67, 0.3), 0 1px 3px 1px rgba(60, 64, 67, 0.15);\n",
              "    fill: var(--button-hover-fill-color);\n",
              "  }\n",
              "\n",
              "  .colab-df-quickchart-complete:disabled,\n",
              "  .colab-df-quickchart-complete:disabled:hover {\n",
              "    background-color: var(--disabled-bg-color);\n",
              "    fill: var(--disabled-fill-color);\n",
              "    box-shadow: none;\n",
              "  }\n",
              "\n",
              "  .colab-df-spinner {\n",
              "    border: 2px solid var(--fill-color);\n",
              "    border-color: transparent;\n",
              "    border-bottom-color: var(--fill-color);\n",
              "    animation:\n",
              "      spin 1s steps(1) infinite;\n",
              "  }\n",
              "\n",
              "  @keyframes spin {\n",
              "    0% {\n",
              "      border-color: transparent;\n",
              "      border-bottom-color: var(--fill-color);\n",
              "      border-left-color: var(--fill-color);\n",
              "    }\n",
              "    20% {\n",
              "      border-color: transparent;\n",
              "      border-left-color: var(--fill-color);\n",
              "      border-top-color: var(--fill-color);\n",
              "    }\n",
              "    30% {\n",
              "      border-color: transparent;\n",
              "      border-left-color: var(--fill-color);\n",
              "      border-top-color: var(--fill-color);\n",
              "      border-right-color: var(--fill-color);\n",
              "    }\n",
              "    40% {\n",
              "      border-color: transparent;\n",
              "      border-right-color: var(--fill-color);\n",
              "      border-top-color: var(--fill-color);\n",
              "    }\n",
              "    60% {\n",
              "      border-color: transparent;\n",
              "      border-right-color: var(--fill-color);\n",
              "    }\n",
              "    80% {\n",
              "      border-color: transparent;\n",
              "      border-right-color: var(--fill-color);\n",
              "      border-bottom-color: var(--fill-color);\n",
              "    }\n",
              "    90% {\n",
              "      border-color: transparent;\n",
              "      border-bottom-color: var(--fill-color);\n",
              "    }\n",
              "  }\n",
              "</style>\n",
              "\n",
              "  <script>\n",
              "    async function quickchart(key) {\n",
              "      const quickchartButtonEl =\n",
              "        document.querySelector('#' + key + ' button');\n",
              "      quickchartButtonEl.disabled = true;  // To prevent multiple clicks.\n",
              "      quickchartButtonEl.classList.add('colab-df-spinner');\n",
              "      try {\n",
              "        const charts = await google.colab.kernel.invokeFunction(\n",
              "            'suggestCharts', [key], {});\n",
              "      } catch (error) {\n",
              "        console.error('Error during call to suggestCharts:', error);\n",
              "      }\n",
              "      quickchartButtonEl.classList.remove('colab-df-spinner');\n",
              "      quickchartButtonEl.classList.add('colab-df-quickchart-complete');\n",
              "    }\n",
              "    (() => {\n",
              "      let quickchartButtonEl =\n",
              "        document.querySelector('#df-08cc66fb-f036-4e9b-8951-b83d0dadb596 button');\n",
              "      quickchartButtonEl.style.display =\n",
              "        google.colab.kernel.accessAllowed ? 'block' : 'none';\n",
              "    })();\n",
              "  </script>\n",
              "</div>\n",
              "\n",
              "    </div>\n",
              "  </div>\n"
            ],
            "application/vnd.google.colaboratory.intrinsic+json": {
              "type": "dataframe",
              "variable_name": "combined_df",
              "summary": "{\n  \"name\": \"combined_df\",\n  \"rows\": 1786,\n  \"fields\": [\n    {\n      \"column\": \"Month\",\n      \"properties\": {\n        \"dtype\": \"category\",\n        \"num_unique_values\": 14,\n        \"samples\": [\n          \"September\",\n          \"November\",\n          \"January \"\n        ],\n        \"semantic_type\": \"\",\n        \"description\": \"\"\n      }\n    },\n    {\n      \"column\": \"Date Event Began\",\n      \"properties\": {\n        \"dtype\": \"object\",\n        \"num_unique_values\": 970,\n        \"samples\": [\n          \"01/15/2022\",\n          \"06/26/2020\",\n          \"02/01/2021\"\n        ],\n        \"semantic_type\": \"\",\n        \"description\": \"\"\n      }\n    },\n    {\n      \"column\": \"Time Event Began\",\n      \"properties\": {\n        \"dtype\": \"category\",\n        \"num_unique_values\": 831,\n        \"samples\": [\n          \"21:59:00\",\n          \"04:27:00\",\n          \"00:59:00\"\n        ],\n        \"semantic_type\": \"\",\n        \"description\": \"\"\n      }\n    },\n    {\n      \"column\": \"Date of Restoration\",\n      \"properties\": {\n        \"dtype\": \"string\",\n        \"num_unique_values\": 950,\n        \"samples\": [\n          \"02/25/2020\",\n          \"- Unknown\",\n          \"08/15/2022\"\n        ],\n        \"semantic_type\": \"\",\n        \"description\": \"\"\n      }\n    },\n    {\n      \"column\": \"Time of Restoration\",\n      \"properties\": {\n        \"dtype\": \"category\",\n        \"num_unique_values\": 752,\n        \"samples\": [\n          \"23:16:00\",\n          \"20:12:00\",\n          \"12:38:00\"\n        ],\n        \"semantic_type\": \"\",\n        \"description\": \"\"\n      }\n    },\n    {\n      \"column\": \"Area Affected\",\n      \"properties\": {\n        \"dtype\": \"category\",\n        \"num_unique_values\": 773,\n        \"samples\": [\n          \"California: Kern County, Los Angeles County, Riverside County, San Bernardino County, Ventura County, Orange County;\",\n          \"Texas: Lubbock County; New Mexico:\",\n          \"Pennsylvania: Westmoreland County;\"\n        ],\n        \"semantic_type\": \"\",\n        \"description\": \"\"\n      }\n    },\n    {\n      \"column\": \"NERC Region\",\n      \"properties\": {\n        \"dtype\": \"category\",\n        \"num_unique_values\": 31,\n        \"samples\": [\n          \"RE,WECC\",\n          \"TRE/WECC\",\n          \"RF \"\n        ],\n        \"semantic_type\": \"\",\n        \"description\": \"\"\n      }\n    },\n    {\n      \"column\": \"Alert Criteria\",\n      \"properties\": {\n        \"dtype\": \"category\",\n        \"num_unique_values\": 61,\n        \"samples\": [\n          \"Complete loss of Interpersonal Communication and Alternative Interpersonal Communication capability affecting its staffed Bulk Electric System control center for 30 continuous minutes or more.\",\n          \"Physical attack that could potentially impact electric power system adequacy or reliability; or vandalism which targets components of any security systems.\",\n          \"Complete loss of Interpersonal Communication and Alternative Interpersonal Communication capability affecting its staffed Bulk Electric System control center for 30 continuous minutes or more. Complete loss of monitoring or control capability at its staffed Bulk Electric System control center for 30 continuous minutes or more.\"\n        ],\n        \"semantic_type\": \"\",\n        \"description\": \"\"\n      }\n    },\n    {\n      \"column\": \"Event Type\",\n      \"properties\": {\n        \"dtype\": \"category\",\n        \"num_unique_values\": 54,\n        \"samples\": [\n          \"Sever Weather\",\n          \"- Physical attack - Vandalism - Suspicious activity\",\n          \"- Theft - Other\"\n        ],\n        \"semantic_type\": \"\",\n        \"description\": \"\"\n      }\n    },\n    {\n      \"column\": \"Demand Loss (MW)\",\n      \"properties\": {\n        \"dtype\": \"category\",\n        \"num_unique_values\": 259,\n        \"samples\": [\n          \"6062\",\n          \"285\",\n          \"3\"\n        ],\n        \"semantic_type\": \"\",\n        \"description\": \"\"\n      }\n    },\n    {\n      \"column\": \"Number of Customers Affected\",\n      \"properties\": {\n        \"dtype\": \"category\",\n        \"num_unique_values\": 495,\n        \"samples\": [\n          120000,\n          \"116000\",\n          \"66589\"\n        ],\n        \"semantic_type\": \"\",\n        \"description\": \"\"\n      }\n    },\n    {\n      \"column\": \"Year\",\n      \"properties\": {\n        \"dtype\": \"number\",\n        \"std\": 1,\n        \"min\": 2019,\n        \"max\": 2023,\n        \"num_unique_values\": 5,\n        \"samples\": [\n          2020,\n          2023,\n          2021\n        ],\n        \"semantic_type\": \"\",\n        \"description\": \"\"\n      }\n    }\n  ]\n}"
            }
          },
          "metadata": {},
          "execution_count": 33
        }
      ]
    },
    {
      "cell_type": "markdown",
      "source": [
        "###Backup the combined_df"
      ],
      "metadata": {
        "id": "I9rOxtX71VI8"
      }
    },
    {
      "cell_type": "code",
      "source": [
        "saved_df = combined_df.copy()"
      ],
      "metadata": {
        "id": "QF-e9xvk1GXT"
      },
      "execution_count": 34,
      "outputs": []
    },
    {
      "cell_type": "markdown",
      "source": [
        "###Remove Duplicates"
      ],
      "metadata": {
        "id": "vP-oMcmyPGOv"
      }
    },
    {
      "cell_type": "code",
      "source": [
        "print(combined_df.duplicated().sum())\n",
        "combined_df = combined_df.drop_duplicates()\n",
        "print(combined_df.duplicated().sum())"
      ],
      "metadata": {
        "colab": {
          "base_uri": "https://localhost:8080/"
        },
        "id": "0qwudYBjPBLW",
        "outputId": "d6356ffa-d7e9-463e-f254-31c25dd2c714"
      },
      "execution_count": 35,
      "outputs": [
        {
          "output_type": "stream",
          "name": "stdout",
          "text": [
            "17\n",
            "0\n"
          ]
        }
      ]
    },
    {
      "cell_type": "code",
      "source": [
        "print('Number of rows =',combined_df.shape[0])\n",
        "print('Number of columns =',combined_df.shape[1])"
      ],
      "metadata": {
        "colab": {
          "base_uri": "https://localhost:8080/"
        },
        "id": "OH1AApW6PdHN",
        "outputId": "5379248a-6ffd-493b-ca8c-d107c41806ad"
      },
      "execution_count": 36,
      "outputs": [
        {
          "output_type": "stream",
          "name": "stdout",
          "text": [
            "Number of rows = 1769\n",
            "Number of columns = 12\n"
          ]
        }
      ]
    },
    {
      "cell_type": "markdown",
      "source": [
        "##Convert to proper data types and clean the data"
      ],
      "metadata": {
        "id": "aNrGtLsI2Kdu"
      }
    },
    {
      "cell_type": "code",
      "source": [
        "combined_df.info()"
      ],
      "metadata": {
        "colab": {
          "base_uri": "https://localhost:8080/"
        },
        "id": "fawnNzHg11oi",
        "outputId": "99264aae-13ed-4d90-ac8a-e3c0701b4bd8"
      },
      "execution_count": 37,
      "outputs": [
        {
          "output_type": "stream",
          "name": "stdout",
          "text": [
            "<class 'pandas.core.frame.DataFrame'>\n",
            "Index: 1769 entries, 0 to 1785\n",
            "Data columns (total 12 columns):\n",
            " #   Column                        Non-Null Count  Dtype \n",
            "---  ------                        --------------  ----- \n",
            " 0   Month                         1769 non-null   object\n",
            " 1   Date Event Began              1737 non-null   object\n",
            " 2   Time Event Began              1769 non-null   object\n",
            " 3   Date of Restoration           1769 non-null   object\n",
            " 4   Time of Restoration           1769 non-null   object\n",
            " 5   Area Affected                 1769 non-null   object\n",
            " 6   NERC Region                   1760 non-null   object\n",
            " 7   Alert Criteria                1769 non-null   object\n",
            " 8   Event Type                    1769 non-null   object\n",
            " 9   Demand Loss (MW)              1769 non-null   object\n",
            " 10  Number of Customers Affected  1768 non-null   object\n",
            " 11  Year                          1769 non-null   int64 \n",
            "dtypes: int64(1), object(11)\n",
            "memory usage: 179.7+ KB\n"
          ]
        }
      ]
    },
    {
      "cell_type": "markdown",
      "source": [
        "###Clean the months colummn"
      ],
      "metadata": {
        "id": "3SEDs6YmujYA"
      }
    },
    {
      "cell_type": "code",
      "source": [
        "combined_df['Month'].unique()"
      ],
      "metadata": {
        "colab": {
          "base_uri": "https://localhost:8080/"
        },
        "id": "cp4sqWZx7PKj",
        "outputId": "6b7e65ab-b032-4fae-a617-e28606343bd7"
      },
      "execution_count": 38,
      "outputs": [
        {
          "output_type": "execute_result",
          "data": {
            "text/plain": [
              "array(['January ', 'January', 'February', 'March', 'April', 'May', 'June',\n",
              "       'July', 'August', 'September', 'October', 'November', 'December',\n",
              "       'October '], dtype=object)"
            ]
          },
          "metadata": {},
          "execution_count": 38
        }
      ]
    },
    {
      "cell_type": "code",
      "source": [
        "combined_df['Month'] = combined_df['Month'].str.strip()\n",
        "combined_df['Month'].unique()"
      ],
      "metadata": {
        "colab": {
          "base_uri": "https://localhost:8080/"
        },
        "id": "-wPIdnKe7V6-",
        "outputId": "b1b8f7f9-709f-4c96-e37e-15fdafed3402"
      },
      "execution_count": 39,
      "outputs": [
        {
          "output_type": "execute_result",
          "data": {
            "text/plain": [
              "array(['January', 'February', 'March', 'April', 'May', 'June', 'July',\n",
              "       'August', 'September', 'October', 'November', 'December'],\n",
              "      dtype=object)"
            ]
          },
          "metadata": {},
          "execution_count": 39
        }
      ]
    },
    {
      "cell_type": "markdown",
      "source": [
        "###Remove 'Unknown' throughout the dataset"
      ],
      "metadata": {
        "id": "idGmrKIDuxNj"
      }
    },
    {
      "cell_type": "code",
      "source": [
        "combined_df = combined_df.replace('Unknown', pd.NA, regex=True)"
      ],
      "metadata": {
        "id": "AIoooBOL4DWC"
      },
      "execution_count": 40,
      "outputs": []
    },
    {
      "cell_type": "markdown",
      "source": [
        "###Joining date time into single column"
      ],
      "metadata": {
        "id": "2tGrEoZIu9d8"
      }
    },
    {
      "cell_type": "code",
      "source": [
        "combined_df['Datetime Event Began'] = pd.to_datetime(combined_df['Date Event Began'].astype(str) + ' ' + combined_df['Time Event Began'].astype(str),format='mixed', errors='coerce')\n",
        "combined_df['Datetime of Restoration'] = pd.to_datetime(combined_df['Date of Restoration'].astype(str) + ' ' + combined_df['Time of Restoration'].astype(str),format='mixed', errors='coerce')"
      ],
      "metadata": {
        "id": "lnLBh31b-0tq"
      },
      "execution_count": 41,
      "outputs": []
    },
    {
      "cell_type": "markdown",
      "source": [
        "###Handle data entry error in datetime"
      ],
      "metadata": {
        "id": "ZJq2zkykvoAj"
      }
    },
    {
      "cell_type": "code",
      "source": [
        "combined_df[combined_df['Datetime of Restoration']<combined_df['Datetime Event Began']]"
      ],
      "metadata": {
        "colab": {
          "base_uri": "https://localhost:8080/",
          "height": 205
        },
        "id": "pM6jHxegsfQJ",
        "outputId": "0e928a17-c602-4288-aa81-90e58e4187f6"
      },
      "execution_count": 42,
      "outputs": [
        {
          "output_type": "execute_result",
          "data": {
            "text/plain": [
              "      Month Date Event Began Time Event Began Date of Restoration  \\\n",
              "179  August       08/18/2019         16:47:00          08/18/2018   \n",
              "\n",
              "    Time of Restoration Area Affected NERC Region  \\\n",
              "179            23:00:00        Texas:         TRE   \n",
              "\n",
              "                                        Alert Criteria  \\\n",
              "179  Uncontrolled loss of 300 Megawatts or more of ...   \n",
              "\n",
              "                    Event Type Demand Loss (MW) Number of Customers Affected  \\\n",
              "179  Distribution Interruption              752                        86373   \n",
              "\n",
              "     Year Datetime Event Began Datetime of Restoration  \n",
              "179  2019  2019-08-18 16:47:00     2018-08-18 23:00:00  "
            ],
            "text/html": [
              "\n",
              "  <div id=\"df-994b69c7-3bc3-487d-a24b-6341cff1833d\" class=\"colab-df-container\">\n",
              "    <div>\n",
              "<style scoped>\n",
              "    .dataframe tbody tr th:only-of-type {\n",
              "        vertical-align: middle;\n",
              "    }\n",
              "\n",
              "    .dataframe tbody tr th {\n",
              "        vertical-align: top;\n",
              "    }\n",
              "\n",
              "    .dataframe thead th {\n",
              "        text-align: right;\n",
              "    }\n",
              "</style>\n",
              "<table border=\"1\" class=\"dataframe\">\n",
              "  <thead>\n",
              "    <tr style=\"text-align: right;\">\n",
              "      <th></th>\n",
              "      <th>Month</th>\n",
              "      <th>Date Event Began</th>\n",
              "      <th>Time Event Began</th>\n",
              "      <th>Date of Restoration</th>\n",
              "      <th>Time of Restoration</th>\n",
              "      <th>Area Affected</th>\n",
              "      <th>NERC Region</th>\n",
              "      <th>Alert Criteria</th>\n",
              "      <th>Event Type</th>\n",
              "      <th>Demand Loss (MW)</th>\n",
              "      <th>Number of Customers Affected</th>\n",
              "      <th>Year</th>\n",
              "      <th>Datetime Event Began</th>\n",
              "      <th>Datetime of Restoration</th>\n",
              "    </tr>\n",
              "  </thead>\n",
              "  <tbody>\n",
              "    <tr>\n",
              "      <th>179</th>\n",
              "      <td>August</td>\n",
              "      <td>08/18/2019</td>\n",
              "      <td>16:47:00</td>\n",
              "      <td>08/18/2018</td>\n",
              "      <td>23:00:00</td>\n",
              "      <td>Texas:</td>\n",
              "      <td>TRE</td>\n",
              "      <td>Uncontrolled loss of 300 Megawatts or more of ...</td>\n",
              "      <td>Distribution Interruption</td>\n",
              "      <td>752</td>\n",
              "      <td>86373</td>\n",
              "      <td>2019</td>\n",
              "      <td>2019-08-18 16:47:00</td>\n",
              "      <td>2018-08-18 23:00:00</td>\n",
              "    </tr>\n",
              "  </tbody>\n",
              "</table>\n",
              "</div>\n",
              "    <div class=\"colab-df-buttons\">\n",
              "\n",
              "  <div class=\"colab-df-container\">\n",
              "    <button class=\"colab-df-convert\" onclick=\"convertToInteractive('df-994b69c7-3bc3-487d-a24b-6341cff1833d')\"\n",
              "            title=\"Convert this dataframe to an interactive table.\"\n",
              "            style=\"display:none;\">\n",
              "\n",
              "  <svg xmlns=\"http://www.w3.org/2000/svg\" height=\"24px\" viewBox=\"0 -960 960 960\">\n",
              "    <path d=\"M120-120v-720h720v720H120Zm60-500h600v-160H180v160Zm220 220h160v-160H400v160Zm0 220h160v-160H400v160ZM180-400h160v-160H180v160Zm440 0h160v-160H620v160ZM180-180h160v-160H180v160Zm440 0h160v-160H620v160Z\"/>\n",
              "  </svg>\n",
              "    </button>\n",
              "\n",
              "  <style>\n",
              "    .colab-df-container {\n",
              "      display:flex;\n",
              "      gap: 12px;\n",
              "    }\n",
              "\n",
              "    .colab-df-convert {\n",
              "      background-color: #E8F0FE;\n",
              "      border: none;\n",
              "      border-radius: 50%;\n",
              "      cursor: pointer;\n",
              "      display: none;\n",
              "      fill: #1967D2;\n",
              "      height: 32px;\n",
              "      padding: 0 0 0 0;\n",
              "      width: 32px;\n",
              "    }\n",
              "\n",
              "    .colab-df-convert:hover {\n",
              "      background-color: #E2EBFA;\n",
              "      box-shadow: 0px 1px 2px rgba(60, 64, 67, 0.3), 0px 1px 3px 1px rgba(60, 64, 67, 0.15);\n",
              "      fill: #174EA6;\n",
              "    }\n",
              "\n",
              "    .colab-df-buttons div {\n",
              "      margin-bottom: 4px;\n",
              "    }\n",
              "\n",
              "    [theme=dark] .colab-df-convert {\n",
              "      background-color: #3B4455;\n",
              "      fill: #D2E3FC;\n",
              "    }\n",
              "\n",
              "    [theme=dark] .colab-df-convert:hover {\n",
              "      background-color: #434B5C;\n",
              "      box-shadow: 0px 1px 3px 1px rgba(0, 0, 0, 0.15);\n",
              "      filter: drop-shadow(0px 1px 2px rgba(0, 0, 0, 0.3));\n",
              "      fill: #FFFFFF;\n",
              "    }\n",
              "  </style>\n",
              "\n",
              "    <script>\n",
              "      const buttonEl =\n",
              "        document.querySelector('#df-994b69c7-3bc3-487d-a24b-6341cff1833d button.colab-df-convert');\n",
              "      buttonEl.style.display =\n",
              "        google.colab.kernel.accessAllowed ? 'block' : 'none';\n",
              "\n",
              "      async function convertToInteractive(key) {\n",
              "        const element = document.querySelector('#df-994b69c7-3bc3-487d-a24b-6341cff1833d');\n",
              "        const dataTable =\n",
              "          await google.colab.kernel.invokeFunction('convertToInteractive',\n",
              "                                                    [key], {});\n",
              "        if (!dataTable) return;\n",
              "\n",
              "        const docLinkHtml = 'Like what you see? Visit the ' +\n",
              "          '<a target=\"_blank\" href=https://colab.research.google.com/notebooks/data_table.ipynb>data table notebook</a>'\n",
              "          + ' to learn more about interactive tables.';\n",
              "        element.innerHTML = '';\n",
              "        dataTable['output_type'] = 'display_data';\n",
              "        await google.colab.output.renderOutput(dataTable, element);\n",
              "        const docLink = document.createElement('div');\n",
              "        docLink.innerHTML = docLinkHtml;\n",
              "        element.appendChild(docLink);\n",
              "      }\n",
              "    </script>\n",
              "  </div>\n",
              "\n",
              "\n",
              "    </div>\n",
              "  </div>\n"
            ],
            "application/vnd.google.colaboratory.intrinsic+json": {
              "type": "dataframe",
              "repr_error": "0"
            }
          },
          "metadata": {},
          "execution_count": 42
        }
      ]
    },
    {
      "cell_type": "code",
      "source": [
        "combined_df['Datetime of Restoration'].loc[(combined_df['Datetime of Restoration']=='2018-08-18 23:00:00') & (combined_df['Year']==2019)] = '2019-08-18 23:00:00'"
      ],
      "metadata": {
        "id": "dVbbDNiXrYH9"
      },
      "execution_count": 43,
      "outputs": []
    },
    {
      "cell_type": "markdown",
      "source": [
        "###Create new column for Event Duration in hours"
      ],
      "metadata": {
        "id": "sua1vGhlwADd"
      }
    },
    {
      "cell_type": "code",
      "source": [
        "combined_df['Event Duration (hours)'] = combined_df['Datetime of Restoration'] - combined_df['Datetime Event Began']\n",
        "combined_df['Event Duration (hours)'] = combined_df['Event Duration (hours)'].dt.total_seconds() / 3600\n",
        "combined_df['Event Duration (hours)'] = combined_df['Event Duration (hours)'].round().astype('Int64')"
      ],
      "metadata": {
        "id": "57ewMbwdj0Wg"
      },
      "execution_count": 44,
      "outputs": []
    },
    {
      "cell_type": "markdown",
      "source": [
        "###Dropping unwanted columns"
      ],
      "metadata": {
        "id": "sQZ6nouywKdM"
      }
    },
    {
      "cell_type": "code",
      "source": [
        "#droping unwanted columns\n",
        "combined_df = combined_df.drop(columns=['Date Event Began','Time Event Began','Date of Restoration','Time of Restoration','NERC Region','Alert Criteria'])"
      ],
      "metadata": {
        "id": "CWq76JZO_3JC"
      },
      "execution_count": 45,
      "outputs": []
    },
    {
      "cell_type": "markdown",
      "source": [
        "###Correct the Event type column"
      ],
      "metadata": {
        "id": "5gxvH2eMw6rJ"
      }
    },
    {
      "cell_type": "code",
      "source": [
        "combined_df['Event Type'].str.replace(\"- \",\"\").unique()"
      ],
      "metadata": {
        "colab": {
          "base_uri": "https://localhost:8080/"
        },
        "id": "9-w87NzXRcE1",
        "outputId": "47a89e7d-9e71-4edc-f593-6a5547764541"
      },
      "execution_count": 46,
      "outputs": [
        {
          "output_type": "execute_result",
          "data": {
            "text/plain": [
              "array(['System Operations', 'Severe Weather', 'Suspicious Activity',\n",
              "       'Actual Physical Attack', 'Vandalism', 'Transmission Interruption',\n",
              "       'Fuel Supply Deficiency',\n",
              "       'Severe Weather/Transmission Interruption',\n",
              "       'Generation Inadequacy',\n",
              "       'Severe Weather/Distribution Interruption',\n",
              "       'Distribution Interruption',\n",
              "       'Transmission Interruption/Distribution Interruption',\n",
              "       'Natural Disaster', 'Sabotage', 'Potential Physical Attack',\n",
              "       'Cyber Event', 'Severe Weather/Transmisison Interruption',\n",
              "       'Actual Physical Attack/Vandalism', 'Suspicious activity',\n",
              "       'Sever Weather', 'Weather or natural disaster',\n",
              "       'Vandalism\\xa0Theft',\n",
              "       'Failure at high voltage substation or switchyard',\n",
              "       'Transmission equipment failure', <NA>, 'Other',\n",
              "       'Failure at high voltage substation or switchyard\\xa0Other',\n",
              "       'Physical attack\\xa0Vandalism\\xa0Suspicious activity',\n",
              "       'Failure at high voltage substation or switchyard\\xa0Weather or natural disaster',\n",
              "       'Physical attack\\xa0Vandalism\\xa0Other',\n",
              "       'Physical attack\\xa0Vandalism', 'Threat of physical attack',\n",
              "       'Physical attack', 'Weather or natural disaster Other',\n",
              "       'Vandalism Theft Suspicious activity',\n",
              "       'Vandalism Suspicious activity', 'Vandalism Theft',\n",
              "       'Physical attack Other',\n",
              "       'Physical attack Vandalism Theft Suspicious activity',\n",
              "       'Physical attack Generator loss or failure', 'Theft',\n",
              "       'Fuel supply emergency', 'Theft Suspicious activity',\n",
              "       'Theft Other', 'Physical attack Vandalism Suspicious activity',\n",
              "       'Cyber event (information technology)',\n",
              "       'Vandalism Theft Suspicious activity Other',\n",
              "       'Generator loss or failure',\n",
              "       'Suspicious activity Transmission equipment failure'], dtype=object)"
            ]
          },
          "metadata": {},
          "execution_count": 46
        }
      ]
    },
    {
      "cell_type": "code",
      "source": [
        "combined_df['Event Type'].str.replace(\"- \",\"\").str.replace(u\"\\xa0\",\" \") .str.replace(\"/\",\" \").unique().size"
      ],
      "metadata": {
        "colab": {
          "base_uri": "https://localhost:8080/"
        },
        "id": "Exde5AB_C6dH",
        "outputId": "70782410-b5e0-4cd3-8403-22d6f28930e8"
      },
      "execution_count": 47,
      "outputs": [
        {
          "output_type": "execute_result",
          "data": {
            "text/plain": [
              "47"
            ]
          },
          "metadata": {},
          "execution_count": 47
        }
      ]
    },
    {
      "cell_type": "code",
      "source": [
        "mistakes = {\n",
        "    \"- \":\"\",\n",
        "    u\"\\xa0\":\" \",\n",
        "    \"/\":\" \",\n",
        "    \"Transmisison\":\"Transmission\",\n",
        "    \"activity\":\"Activity\",\n",
        "    \"event\":\"Event\",\n",
        "    \" or \":\" \",\n",
        "    \"physical\":\"Physical\",\n",
        "    \"attack\":\"Attack\",\n",
        "    \"natural disaster\":\"Natural Disaster\",\n",
        "    \"(information technology)\" : ''\n",
        "}"
      ],
      "metadata": {
        "id": "Lrjjph7jrzrL"
      },
      "execution_count": 48,
      "outputs": []
    },
    {
      "cell_type": "code",
      "source": [
        "for key,value in mistakes.items():\n",
        "    combined_df['Event Type'] = combined_df['Event Type'].str.replace(key,value)"
      ],
      "metadata": {
        "id": "W_T1WeYqGSZY"
      },
      "execution_count": 49,
      "outputs": []
    },
    {
      "cell_type": "code",
      "source": [
        "combined_df['Event Type'].unique().size"
      ],
      "metadata": {
        "colab": {
          "base_uri": "https://localhost:8080/"
        },
        "id": "Ys8YOl-kTjbC",
        "outputId": "f3b72e97-3dd2-4904-fc87-51f570da3bfc"
      },
      "execution_count": 50,
      "outputs": [
        {
          "output_type": "execute_result",
          "data": {
            "text/plain": [
              "45"
            ]
          },
          "metadata": {},
          "execution_count": 50
        }
      ]
    },
    {
      "cell_type": "markdown",
      "source": [
        "###Correct the Area Affected Column"
      ],
      "metadata": {
        "id": "ij71qxE-xKiv"
      }
    },
    {
      "cell_type": "code",
      "source": [
        "combined_df['Area Affected'].unique()"
      ],
      "metadata": {
        "colab": {
          "base_uri": "https://localhost:8080/"
        },
        "id": "BWHtg4vW2OxN",
        "outputId": "151ebcb6-a7af-4a25-d95a-7c9d9e5e2075"
      },
      "execution_count": 51,
      "outputs": [
        {
          "output_type": "execute_result",
          "data": {
            "text/plain": [
              "array(['Washington:', 'California: Sacramento County;',\n",
              "       'Washington: King County, Thurston County, Pierce County;',\n",
              "       'Michigan:', 'New Mexico: San Juan County;',\n",
              "       'Montana: Valley County;', 'Maine:',\n",
              "       'Missouri: Jackson County; Kansas: Johnson County;',\n",
              "       'Missouri: Nebraska:', 'New Hampshire:',\n",
              "       'North Carolina: South Carolina:', 'Pennsylvania:', 'California:',\n",
              "       'Texas: Nueces County;', 'Nebraska:', 'Colorado: Larimer County;',\n",
              "       'Ohio:', 'Utah: Iron County;', 'Louisiana: Washington Parish;',\n",
              "       'Illinois: Scott County;', 'Illinois: Pike County;', 'Nevada',\n",
              "       'Massachusetts', 'California', 'Arkansas', 'Michigan',\n",
              "       'Pennsylvania', 'Washington', 'New Jersey', 'Utah', 'Texas',\n",
              "       'Wisconsin, Minnesota, Iowa, Illinois', 'Virginia',\n",
              "       'Ohio, Virginia, West Virginia', 'Ohio',\n",
              "       'Connecticut, Massachusetts, New Hampshire, Maine, Vermont, Rhode Island',\n",
              "       'Iowa', 'South Carolina', 'Oklahoma, Arkansas, Louisiana',\n",
              "       'Oklahoma:',\n",
              "       'California: Kern County, Los Angeles County; Utah: Salt Lake County; Wyoming: Converse County;',\n",
              "       'Texas:', 'Colorado: Jefferson County;',\n",
              "       'Texas: Midland County, Ector County, Tarrant County, Dallas County, Wichita County, Brown County;',\n",
              "       'Texas: Kansas: Oklahoma:', 'California: Los Angeles County;',\n",
              "       'Utah: Salt Lake County;', 'Oregon: Lane County;',\n",
              "       'California: San Diego County, Los Angeles County;',\n",
              "       'Nevada: Carson City, Consolidated Municipality of[19], Washoe County, Churchill County;',\n",
              "       'New York: Broome County;', 'New York: Monroe County;',\n",
              "       'California: Kern County;', 'California: Fresno County;',\n",
              "       'Montana:', 'Virginia:', 'Oregon: Washington:',\n",
              "       'Minnesota: Martin County;',\n",
              "       'Mississippi: Arkansas: Texas: Louisiana:', 'Minnesota:',\n",
              "       'Arizona:', 'Colorado: Clear Creek County;',\n",
              "       'Alabama: Mississippi: Georgia: Florida:',\n",
              "       'Arizona: Maricopa County;', 'Massachusetts: Hampden County[13];',\n",
              "       'South Carolina:', 'Virginia: Surry County;', 'Indiana:',\n",
              "       'Pennsylvania: Mercer County;', 'Louisiana: Texas:',\n",
              "       'Texas: Harris County;', 'West Virginia:',\n",
              "       'Texas: Ector County, Midland County, Tarrant County, Dallas County, Stephens County, Anderson County, McLennan County, Ellis County, Hunt County, Young County, Bell County, Limestone County, Collin County, Rockwall County, Henderson County, Parker County, Falls County, Freestone County, Kaufman County, Grayson County, Smith County;',\n",
              "       'Colorado: Wyoming: Nebraska: Utah: Daggett County; New Mexico:',\n",
              "       'Kentucky: Shelby County;', 'North Dakota: Minnesota:',\n",
              "       'Ohio: Montgomery County, Darke County, Mercer County, Miami County, Greene County;',\n",
              "       'Nevada: Washoe County;', 'Idaho: Bannock County;',\n",
              "       'South Dakota: Lincoln County;', 'Texas: Bexar County;',\n",
              "       'Texas: Pecos County;', 'Texas: Potter County;',\n",
              "       'Texas: Collin County, Dallas County, Denton County, Palo Pinto County, Tarrant County, Ellis County, Williamson County;',\n",
              "       'North Dakota: Mountrail County, Williams County;', 'Utah:',\n",
              "       'California: Imperial County, Riverside County;',\n",
              "       'Texas: Dallas County, Tarrant County, Collin County, Denton County;',\n",
              "       'Washington: Grant County;', 'Arkansas:', 'Nevada: Clark County;',\n",
              "       'Kentucky: Tennessee:', 'Alabama: Georgia:',\n",
              "       'Texas: Dallas County, Denton County, Ellis County, Collin County, Ellis County, Hood County, Johnson County, Kaufman County;',\n",
              "       'Oklahoma: Oklahoma County;', 'North Dakota: Williams County;',\n",
              "       'Idaho: Nez Perce County;',\n",
              "       'New York: Nassau County, Suffolk County;',\n",
              "       'Illinois: Cook County, DeKalb County, DuPage County, Grundy County, Iroquois County, Ford County, Lake County, Kendall County, Kankakee County, Kane County, Ogle County;',\n",
              "       'Idaho: Ada County;', 'Mississippi: Panola County;',\n",
              "       'Texas: Louisiana: Arkansas: Mississippi:',\n",
              "       'Texas: Collin County, Dallas County, Denton County, Hood County, Johnson County, Tarrant County;',\n",
              "       'Texas: Lynn County;',\n",
              "       'Louisiana: Acadia Parish, Avoyelles Parish, Catahoula Parish, Evangeline Parish, Grant Parish, Iberia Parish, LaSalle Parish, Natchitoches Parish, Rapides Parish, Sabine Parish, St. Landry Parish, St. Martin Parish, St. Mary Parish, St. Tammany Parish, Allen Parish, Beauregard Parish, Calcasieu Parish, Vermilion Parish, De Soto Parish, Jefferson Davis Parish, Red River Parish, Tangipahoa Parish, Vernon Parish, Washington Parish;',\n",
              "       'Louisiana:', 'New York: New York County;',\n",
              "       'Wisconsin: Dane County;', 'Missouri: Boone County;',\n",
              "       'Wisconsin: Michigan:',\n",
              "       'Michigan: Kent County, Newaygo County, Mecosta County, Montcalm County, Isabella County, Ionia County, Allegan County, Barry County;',\n",
              "       'New York: Kings County, New York County, Queens County, Bronx County, Westchester County, Richmond County;',\n",
              "       'Pennsylvania: Bucks County, Delaware County;',\n",
              "       'New Jersey: Gloucester County;', 'California: Santa Cruz County;',\n",
              "       'Nebraska: Scotts Bluff County;', 'Massachusetts:',\n",
              "       'Washington: Clark County;', 'Minnesota: Chisago County;',\n",
              "       'Oregon: Umatilla County;', 'Washington: Pierce County;',\n",
              "       'Texas: Travis County;', 'California: Placer County;',\n",
              "       'North Dakota: Mercer County;', 'Texas: Williamson County;',\n",
              "       'New York: Tompkins County;', 'California: Marin County;',\n",
              "       'Kentucky: Ohio County;', 'District of Columbia: Maryland:',\n",
              "       'Massachusetts: Middlesex County[13];', 'Washington: King County;',\n",
              "       'North Dakota:', 'Pennsylvania: New Jersey:',\n",
              "       'California: Calaveras County;', 'Maryland: District of Columbia:',\n",
              "       'North Carolina:', 'Wyoming: Sweetwater County;',\n",
              "       'Michigan: Ionia County, Kent County, Barry County, Montcalm County, Allegan County, Ottawa County, Newaygo County;',\n",
              "       'Tennessee:', 'Minnesota: Washington County;',\n",
              "       'Arizona: Pima County;', 'Wisconsin: Marathon County;',\n",
              "       'California: Napa County, Nevada County, Placer County, Plumas County, Sonoma County, Butte County, Yuba County;',\n",
              "       'Maryland: Baltimore County;', 'California: Alameda County;',\n",
              "       'Idaho: Bonneville County;', 'Missouri: Reynolds County;',\n",
              "       'Texas: Hidalgo County, Cameron County;',\n",
              "       'Michigan: Wayne County;', 'Kansas: Shawnee County;',\n",
              "       'Connecticut: Rhode Island: Massachusetts: Vermont: New Hampshire: Maine:',\n",
              "       'South Dakota: Codington County; Nebraska: Scotts Bluff County;',\n",
              "       'California: Imperial County;',\n",
              "       'Texas: Cass County, Cameron County, Collin County, Dallas County, Ellis County, Erath County, Hunt County, Kaufman County, Lamar County, Panola County, Rains County, Rockwall County, Rusk County, Tarrant County, Van Zandt County, Wood County;',\n",
              "       'Ohio: Lorain County;', 'South Carolina: Cherokee County;',\n",
              "       'Wisconsin: Brown County, Manitowoc County, Calumet County, Winnebago County, Kewaunee County, Door County, Oconto County, Marinette County, Forest County, Langlade County, Oneida County, Vilas County, Lincoln County, Oneida County, Portage County;',\n",
              "       'California: Los Angeles County, Orange County, Riverside County, San Bernardino County, Ventura County, Kern County;',\n",
              "       'New York:',\n",
              "       'Connecticut: Maine: Massachusetts: Rhode Island: New Hampshire: Vermont:',\n",
              "       'Minnesota: Sherburne County;', 'Florida: Duval County;',\n",
              "       'Idaho: Elmore County;', 'Utah: California: Oregon: Wyoming:',\n",
              "       'Texas: New York: Dutchess County;',\n",
              "       'California: Colusa County, Lake County, Mendocino County, Napa County, Solano County, Sonoma County, Yolo County, Shasta County, Tehama County;',\n",
              "       'California: Santa Clara County;',\n",
              "       'Michigan: Tuscola County, Sanilac County, Huron County, St. Clair County, Macomb County, Oakland County, Wayne County, Livingston County, Washtenaw County, Monroe County;',\n",
              "       'Texas: Dawson County;', 'Alabama: Covington County;',\n",
              "       'Ohio: Kentucky:', 'Washington: Chelan County;',\n",
              "       'Oklahoma: Stephens County;', 'Texas: Dallas County;',\n",
              "       'North Dakota: Burleigh County;', 'Illinois:',\n",
              "       'Arkansas: Yell County;', 'Minnesota: North Dakota: Wisconsin:',\n",
              "       'Tennessee: Hamilton County;', 'Arkansas: Cross County;',\n",
              "       'Arkansas: Texas:', 'Alabama: Georgia: Mississippi:',\n",
              "       'Texas: Brazos County;', 'Florida: Alachua County;',\n",
              "       'California: Humboldt County;', 'Nevada: Humboldt County;',\n",
              "       'Florida: Manatee County;', 'North Dakota: South Dakota: Montana:',\n",
              "       'Connecticut: Maine: Massachusetts: New Hampshire: Rhode Island: Vermont:',\n",
              "       'Virginia: North Carolina:',\n",
              "       'California: Alameda County, Contra Costa County, El Dorado County, Nevada County, Placer County, Sierra County, Santa Clara County, Napa County, Marin County, Santa Cruz County;',\n",
              "       'Texas: Sterling County;', 'Oregon: Clackamas County;', 'Oregon:',\n",
              "       'Alabama: Chambers County;', 'Michigan: Eaton County;',\n",
              "       'Northern and Central California;',\n",
              "       'South Dakota: Wyoming: Colorado:',\n",
              "       'Nevada: Clark County, Washoe County;',\n",
              "       'Mississippi: Rankin County;', 'Western NY', 'Alabama:',\n",
              "       'Texas: Llano County;', 'Michigan: Washtenaw County;',\n",
              "       'Minnesota: St. Louis County;',\n",
              "       'Connecticut: Massachusetts: Rhode Island: Maine: New Hampshire: Vermont:',\n",
              "       'Connecticut: Massachusetts:', 'Wisconsin: Columbia County;',\n",
              "       'California: Nevada County;',\n",
              "       'Connecticut: Massachusetts: Maine: New Hampshire: Rhode Island: Vermont:',\n",
              "       'Delaware: Kent County, New Castle County, Sussex County; Maryland: Cecil County, Harford County, Talbot County, Kent County, Queen Anne&#39;s County, Dorchester County, Wicomico County, Worcester County, Somerset County;',\n",
              "       'New Jersey: Atlantic County, Cape May County, Cumberland County, Gloucester County, Salem County;',\n",
              "       'Illinois: Williamson County;', 'Nebraska: York County;',\n",
              "       'Washington: Wallula', 'Texas: Cameron County;',\n",
              "       'California: Stanislaus County;', 'Nevada: White Pine County;',\n",
              "       'Wyoming:', 'Utah: Salt Lake City',\n",
              "       'Louisiana: Acadia Parish, Iberville Parish, Jefferson Davis Parish, Concordia Parish, Winn Parish, Catahoula Parish, Terrebonne Parish, St. Mary Parish;',\n",
              "       'Virginia: West Virginia:', 'Mississippi: Alabama: Georgia:',\n",
              "       'Georgia:', 'South Dakota: Deuel County;',\n",
              "       'Mississippi: Arkansas: Louisiana:',\n",
              "       'Alabama: Georgia: Mississippi: Florida:',\n",
              "       'California: Placer County, Nevada County;',\n",
              "       'Oregon: Multnomah County;', 'Florida:',\n",
              "       'Texas: Jefferson County;',\n",
              "       'Pennsylvania: Bucks County, Chester County, Delaware County, Montgomery County, Philadelphia County, York County;',\n",
              "       'Tennessee: Davidson County;', 'Nevada: Nye County;',\n",
              "       'Indiana: Hendricks County;', 'Oregon: Jackson County;',\n",
              "       'New York: Saratoga County;', 'Alabama: Jefferson County;',\n",
              "       'Central Oklahoma', 'Texas: Kerr County;',\n",
              "       'Pennsylvania: Warren County;', 'Minnesota: Hennepin County;',\n",
              "       'Ohio: Franklin County;',\n",
              "       'Idaho: Blaine County, Jerome County, Minidoka County, Power County;',\n",
              "       'New Jersey:',\n",
              "       'Michigan: Oakland County, Macomb County, Wayne County, Sanilac County, Tuscola County, Huron County, Lapeer County, Livingston County, Monroe County;',\n",
              "       'Michigan: Gratiot County, Lake County, Missaukee County, Benzie County, Leelanau County, Manistee County, Wexford County, Montcalm County, Kent County, Ottawa County, Van Buren County, St. Joseph County, Arenac County, Saginaw County, Calhoun County, Branch County;',\n",
              "       'Ohio: Indiana: Kentucky: West Virginia:',\n",
              "       'Michigan: Houghton County;', 'Colorado: El Paso County;',\n",
              "       'Kentucky: Gallatin County;', 'Delaware: New Castle County;',\n",
              "       'Pennsylvania: Allegheny County, Beaver County;',\n",
              "       'Kentucky: Madison County;', 'North Dakota: Mountrail County;',\n",
              "       'Arkansas: Garland County;', 'California: Butte County;',\n",
              "       'New York: Kings County;', 'Colorado:',\n",
              "       'West Virginia: Wyoming County;', 'Washington: Thurston County;',\n",
              "       'Oklahoma: Arkansas:',\n",
              "       'Texas: Collin County, Dallas County, Denton County, Rockwall County, Tarrant County;',\n",
              "       'New York: Niagara County', 'West Virginia: Tucker County;',\n",
              "       'New York: Bronx County;',\n",
              "       'Texas: Hidalgo County, Cameron County, Starr County, Kenedy County, Willacy County, Brooks County, Jim Hogg County;',\n",
              "       'Texas: Nueces County, Kleberg County, Cameron County, Willacy County, Hidalgo County, Starr County, Kenedy County;',\n",
              "       'Michigan: Jackson County;',\n",
              "       'Texas: Cameron County, Willacy County, Hidalgo County, Starr County;',\n",
              "       'California: San Diego County;',\n",
              "       'Texas: Cameron County, Hidalgo County, Starr County, Willacy County;',\n",
              "       'Illinois: Rock Island County;', 'Texas: Ector County;',\n",
              "       'New York: Rockland County, Orange County, Sullivan County; New Jersey: Bergen County, Passaic County, Sussex County;',\n",
              "       'New York: Nassau County, Suffolk County, Queens County;',\n",
              "       'Delaware:',\n",
              "       'New York: Dutchess County, Orange County, Ulster County;',\n",
              "       'Connecticut: Massachusetts: New Hampshire: Maine: Rhode Island: Vermont:',\n",
              "       'New York: Bronx County, Richmond County, Queens County, Kings County, Westchester County, New York County;',\n",
              "       'North Carolina: Brunswick County, Columbus County, Pender County, Duplin County, Onslow County, Jones County, Craven County, Jones County, Beaufort County, Bertie County, Chowan County, Gates County, Perquimans County;',\n",
              "       'Texas: Orange County;',\n",
              "       'New York: Queens County, New York County;',\n",
              "       'Iowa: Webster County, Greene County, Dallas County, Hamilton County, Boone County, Polk County, Hardin County, Story County, Jasper County, Grundy County, Marshall County, Tama County, Poweshiek County, Benton County, Iowa County, Linn County, Johnson County, Jones County, Cedar County, Muscatine County, Jackson County, Clinton County, Scott County;',\n",
              "       'Illinois: Missouri:', 'Iowa:',\n",
              "       'Illinois: Cook County, Will County, DuPage County, Lake County, Kane County, Grundy County, LaSalle County, DeKalb County, McHenry County, Lee County;',\n",
              "       'New York: Onondaga County;',\n",
              "       'Iowa: Dallas County, Polk County, Warren County, Madison County, Johnson County, Scott County; Illinois: Rock Island County, Henry County, Mercer County;',\n",
              "       'Texas: El Paso County;', 'Louisiana: St. Charles Parish;',\n",
              "       'California: Kern County, Kings County, Los Angeles County, Orange County, Riverside County, San Bernardino County, Santa Barbara County, Tulare County, Ventura County;',\n",
              "       'Minnesota: Anoka County, Hennepin County, Ramsey County, Washington County;',\n",
              "       'California: Inyo County, Kern County, Los Angeles County, Orange County, Riverside County, San Bernardino County, Tulare County, Ventura County;',\n",
              "       'Washington: Snohomish County;',\n",
              "       'Connecticut: New Haven County[13];',\n",
              "       'Texas: Collin County, Dallas County, Denton County, Tarrant County, Ellis County, Kaufman County, Johnson County, Anderson County, Angelina County, Grayson County, Smith County, Wichita County;',\n",
              "       'California: Yuba County;', 'California: Kings County;', 'Nevada:',\n",
              "       'Texas: Culberson County, Reeves County;',\n",
              "       'Ohio: Trumbull County;', 'Mississippi: Jasper County;',\n",
              "       'Nebraska: Custer County;', 'West Virginia: Putnam County;',\n",
              "       'Texas panhandle, SE NM', 'Texas: Denton County;',\n",
              "       'Louisiana: Rapides Parish;', 'Texas: Louisiana:',\n",
              "       'Nebraska: Douglas County, Burt County, Washington County, Dodge County, Colfax County, Saunders County, Sarpy County, Cass County, Otoe County, Johnson County, Nemaha County, Pawnee County, Richardson County;',\n",
              "       'Texas: Montgomery County, Liberty County;',\n",
              "       'Louisiana: Calcasieu Parish, Beauregard Parish, Iberia Parish, Acadia Parish, Evangeline Parish, Rapides Parish, St. Landry Parish, Vernon Parish;',\n",
              "       'Washington: Oregon:', 'Florida: Pinellas County;',\n",
              "       'Washington: Oregon: California:',\n",
              "       'Washington: Kitsap County, King County, Pierce County;',\n",
              "       'Oregon: Multnomah County, Washington County, Clackamas County, Marion County, Yamhill County, Polk County;',\n",
              "       'Michigan: Ingham County;', 'Idaho:',\n",
              "       'Alabama: Florida: Georgia: Mississippi:',\n",
              "       'Florida: Escambia County;', 'Alabama: Baldwin County;',\n",
              "       'Maine: Oxford County;', 'Oklahoma: Canadian County;',\n",
              "       'Connecticut: Maine: Rhode Island: Massachusetts: New Hampshire: Vermont:',\n",
              "       'Virginia: Hanover County;', 'Louisiana: Orleans Parish;',\n",
              "       'Louisiana: Acadia Parish, Beauregard Parish, Calcasieu Parish, Evangeline Parish, Iberia Parish, Rapides Parish, Vernon Parish, Avoyelles Parish, Grant Parish, Natchitoches Parish, St. Landry Parish, St. Mary Parish, St. Tammany Parish;',\n",
              "       'Louisiana: Texas: Arkansas: Mississippi:',\n",
              "       'Louisiana: Lafayette Parish;', 'Florida: Polk County;',\n",
              "       'Washington: Whatcom County, King County, Pierce County, Thurston County, Kittitas County, Kitsap County;',\n",
              "       'Washington: Walla Walla County;', 'Kentucky:',\n",
              "       'Illinois: Massac County;',\n",
              "       'Wisconsin: Milwaukee County; Michigan:',\n",
              "       'Oklahoma: Oklahoma County, Canadian County, Logan County, Cleveland County, Pottawatomie County;',\n",
              "       'California: Los Angeles County, Riverside County, San Bernardino County, Orange County, Kern County, Ventura County;',\n",
              "       'Alabama: Florida: Mississippi: Georgia:',\n",
              "       'Louisiana: St. Tammany Parish, St. Mary Parish;',\n",
              "       'Alabama: Baldwin County, Butler County, Clarke County, Conecuh County, Escambia County, Lee County, Lowndes County, Macon County, Montgomery County, Pike County, Russell County, Tallapoosa County, Talladega County, Washington County, Monroe County; Florida: Escambia County, Okaloosa County, Walton County, Santa Rosa County;',\n",
              "       'New Hampshire: Coos County;',\n",
              "       'California: San Bernardino County;',\n",
              "       'Michigan: Huron County, Livingston County, Macomb County, Monroe County, Wayne County, Washtenaw County, Tuscola County, St. Clair County, Lapeer County, Oakland County;',\n",
              "       'Michigan: Iosco County, Oscoda County, Ogemaw County, Livingston County, Ionia County, Barry County;',\n",
              "       'Ohio: West Virginia: Virginia: Indiana:',\n",
              "       'Missouri: Jackson County;',\n",
              "       'Texas: Kentucky: Arizona: New Mexico: Oregon: Washington:',\n",
              "       'Massachusetts: Maine: Connecticut: Rhode Island: Vermont: New Hampshire:',\n",
              "       'California: Kern County, Los Angeles County, Orange County, Riverside County, San Bernardino County, San Diego County, Tulare County, Ventura County;',\n",
              "       'California: Kern County, Los Angeles County, Orange County, Riverside County, San Bernardino County, Ventura County, Tulare County;',\n",
              "       'Missouri: Kansas:', 'Idaho: Oregon:',\n",
              "       'New Jersey: Pennsylvania: Maryland: Illinois: Delaware: District of Columbia:',\n",
              "       'Connecticut: Maine: New Hampshire: Massachusetts: Rhode Island: Vermont:',\n",
              "       'Arkansas: Prairie County;',\n",
              "       'Texas: Anderson County, Angelina County, Dallas County, Freestone County, Henderson County, Houston County, Leon County, Nacogdoches County, Smith County, Tarrant County;',\n",
              "       'Washington: Kitsap County, Thurston County, King County, Pierce County, Skagit County, Whatcom County;',\n",
              "       'Oregon: Clackamas County, Multnomah County, Washington County;',\n",
              "       'Washington: Idaho:', 'Georgia: Houston County;', 'Missouri:',\n",
              "       'Connecticut:',\n",
              "       'California: Kern County, Los Angeles County, Riverside County, San Bernardino County, Ventura County, Orange County;',\n",
              "       'Texas: Louisiana: Arkansas: Pulaski County; Mississippi:',\n",
              "       'Georgia: Laurens County;', 'New Hampshire: Hillsborough County;',\n",
              "       'Texas: Kleberg County;', 'South Dakota: Hughes County;',\n",
              "       'North Dakota: Logan County, Emmons County, McIntosh County;',\n",
              "       'Arkansas: Arkansas County;', 'Oregon: Tillamook County;',\n",
              "       'Colorado: Morgan County;', 'Kansas:',\n",
              "       'Oregon: Clackamas County, Marion County, Polk County, Multnomah County, Washington County, Yamhill County;',\n",
              "       'Washington: Lewis County;', 'West Virginia: Virginia:',\n",
              "       'South Carolina: North Carolina:',\n",
              "       'Arkansas: Louisiana: Texas: Oklahoma:',\n",
              "       'North Dakota: South Dakota: Nebraska: Kansas: Oklahoma: Texas:',\n",
              "       'Nebraska: Lancaster County;', 'Missouri: Jasper County;',\n",
              "       'Oklahoma: Kay County;', 'Texas: Lubbock County;',\n",
              "       'Texas: Arkansas:', 'Arkansas: Pulaski County;', 'Mississippi:',\n",
              "       'Texas: Austin County, Bastrop County, Burleson County, Caldwell County, Colorado County, Fayette County, Gonzales County, Guadalupe County, Hays County, Lee County, Milam County, Travis County, Washington County, Williamson County;',\n",
              "       'Texas: Randall County;', 'Kansas: Missouri:',\n",
              "       'Louisiana: Texas: Illinois:',\n",
              "       'Louisiana: Arkansas: Texas: Mississippi:',\n",
              "       'New Jersey: Pennsylvania: Texas: California: Illinois: Colorado:',\n",
              "       'Louisiana: Allen Parish, St. Landry Parish, Evangeline Parish;',\n",
              "       'Oregon: Multnomah County, Clackamas County;',\n",
              "       'New York: Greene County;', 'Indiana: Hamilton County;',\n",
              "       'California: Tuolumne County;', 'Washington: Yakima County;',\n",
              "       'Texas: Dallas County, Tarrant County;',\n",
              "       'Washington: Okanogan County;', 'Louisiana: Lafourche Parish;',\n",
              "       'Connecticut: Massachusetts: Maine: Vermont: Rhode Island: New Hampshire:',\n",
              "       'New Mexico:', 'Texas: Hidalgo County;', 'Ohio: Lake County;',\n",
              "       'Wisconsin: Eau Claire County;',\n",
              "       'District of Columbia: Delaware: Maryland: New Jersey: Pennsylvania:',\n",
              "       'Minnesota: Dakota County;', 'Alabama: Calhoun County; Georgia:',\n",
              "       'Maine: Kennebec County;', 'Michigan: Huron County;',\n",
              "       'Indiana: Vanderburgh County, Warrick County, Posey County, Daviess County, Gibson County, Knox County, Spencer County;',\n",
              "       'Texas: Kinney County;', 'Wisconsin: Iowa:',\n",
              "       'Pennsylvania: Montgomery County;', 'Florida: Brevard County;',\n",
              "       'Utah: San Juan County;', 'California: Nevada:',\n",
              "       'California: Riverside County;', 'Indiana: Clay County;',\n",
              "       'Minnesota: North Dakota:',\n",
              "       'Texas: Somervell County, Ellis County;', 'Texas: Liberty County;',\n",
              "       'Kansas: Wyandotte County;', 'South Dakota: Brown County;',\n",
              "       'Louisiana: West Baton Rouge Parish;', 'Arkansas: Benton County;',\n",
              "       'California: Plumas County;', 'Washington: Kittitas County;',\n",
              "       'North Dakota: Morton County;', 'New York: Jefferson County;',\n",
              "       'Washington: Spokane County, Stevens County, Lincoln County, Adams County, Whitman County; Idaho: Kootenai County, Bonner County, Shoshone County, Boundary County, Benewah County, Latah County, Nez Perce County;',\n",
              "       'Michigan: Oakland County, Macomb County, Wayne County;',\n",
              "       'Connecticut: Massachusetts: Rhode Island: Vermont: New Hampshire: Maine:',\n",
              "       'New Mexico: Bernalillo County;',\n",
              "       'Michigan: Macomb County, Oakland County, Monroe County, Livingston County, St. Clair County, Washtenaw County, Wayne County;',\n",
              "       'North Dakota: Stark County;', 'California: Shasta County;',\n",
              "       'Nebraska: Missouri:', 'Colorado: Pueblo County;',\n",
              "       'Illinois: Cook County;',\n",
              "       'Michigan: Wayne County, Oakland County, Livingston County, Macomb County;',\n",
              "       'Wisconsin:', 'California: Humboldt County, Trinity County;',\n",
              "       'Texas: Hays County;', 'Oregon: Linn County;',\n",
              "       'Michigan: Allegan County, Antrim County, Barry County, Benzie County, Branch County, Calhoun County, Clare County, Clinton County, Crawford County, Eaton County, Genesee County, Gladwin County, Grand Traverse County, Gratiot County, Hillsdale County, Ingham County, Ionia County, Isabella County, Jackson County, Kalamazoo County, Kalkaska County, Kent County, Lake County, Leelanau County, Manistee County, Mason County, Mecosta County, Midland County, Missaukee County, Montcalm County, Muskegon County, Newaygo County, Oakland County, Oceana County, Ogemaw County, Osceola County, Oscoda County, Otsego County, Ottawa County, Roscommon County, Saginaw County, Shiawassee County, St. Joseph County, Van Buren County, Wexford County;',\n",
              "       'Wisconsin: Waukesha County, Milwaukee County, Kenosha County, Racine County, Washington County, Ozaukee County;',\n",
              "       'Michigan: Huron County, Macomb County, Lapeer County, Macomb County, Monroe County, Oakland County, St. Clair County, Tuscola County, Wayne County, Washtenaw County, Livingston County;',\n",
              "       'California: Solano County;', 'Montana: Flathead County;',\n",
              "       'California: Butte County, Colusa County, Glenn County, Lake County, Lassen County, Mendocino County, Napa County, Plumas County, Shasta County, Sierra County, Solano County, Sonoma County, Tehama County, Trinity County, Yolo County;',\n",
              "       'Oregon: Washington: Idaho: Utah: Salt Lake County; Wyoming:',\n",
              "       'Connecticut: Massachusetts: Maine: Rhode Island: Vermont:',\n",
              "       'Michigan: Huron County, Lapeer County, Macomb County, Monroe County, Oakland County, St. Clair County, Wayne County, Washtenaw County;',\n",
              "       'Michigan: Arenac County, Bay County, Clare County, Genesee County, Gladwin County, Gratiot County, Isabella County, Iosco County, Kalamazoo County, Kent County, Barry County, Missaukee County, Montcalm County, Muskegon County, Newaygo County, Mecosta County, Midland County, Saginaw County, Ottawa County, Van Buren County;',\n",
              "       'Louisiana: Pointe Coupee Parish;', 'Florida: Leon County;',\n",
              "       'Michigan: Osceola County, Kalamazoo County, Van Buren County, Saginaw County, Arenac County, Lake County, Clare County, Mecosta County;',\n",
              "       'North Dakota: Cass County;', 'North Dakota: McKenzie County;',\n",
              "       'Iowa: Polk County;', 'Florida: Citrus County;',\n",
              "       'Texas: Austin County; California: Los Angeles County;',\n",
              "       'Washington: Skagit County;', 'Texas: Midland County;',\n",
              "       'Washington: Pierce County, Whatcom County, Skagit County, King County;',\n",
              "       'Michigan: Lenawee County, Livingston County, Genesee County, Tuscola County, Huron County, Sanilac County, Lapeer County, St. Clair County, Macomb County, Oakland County, Washtenaw County, Wayne County, Monroe County;',\n",
              "       'Kentucky: Henderson County;', 'Utah: Uintah County;',\n",
              "       'California: Contra Costa County;', 'Ohio: Cuyahoga County;',\n",
              "       'Texas: Collin County, Dallas County, Denton County, Ellis County, Hunt County, Johnson County, Palo Pinto County, Tarrant County, Wichita County;',\n",
              "       'Georgia: DeKalb County;', 'Florida: Putnam County;',\n",
              "       'Ohio: Summit County;',\n",
              "       'Washington: King County, Pierce County, Skagit County, Thurston County;',\n",
              "       'Louisiana: Ascension Parish;',\n",
              "       'Texas: Angelina County, Bell County, Cherokee County, Collin County, Denton County, Dallas County, Ellis County, Hunt County, Johnson County, McLennan County, Nacogdoches County, Smith County, Tarrant County, Travis County, Williamson County;',\n",
              "       'Texas: Haskell County;', 'Vermont: Lamoille County;',\n",
              "       'Montana: Hill County;', 'Pennsylvania: York County;',\n",
              "       'Mississippi: Coahoma County;', 'Indiana: Floyd County;',\n",
              "       'Texas: Montgomery County;',\n",
              "       'Oregon: Multnomah County; Washington: Idaho: Utah: Wyoming:',\n",
              "       'Washington: King County, Kitsap County, Whatcom County, Thurston County, Pierce County;',\n",
              "       'Michigan: Wexford County;',\n",
              "       'California: Riverside County, Ventura County, San Bernardino County, Orange County, Los Angeles County;',\n",
              "       'Indiana: Putnam County;',\n",
              "       'Tennessee: Davidson County, Sumner County;',\n",
              "       'Michigan: Van Buren County, Gladwin County, Montcalm County, Branch County, Allegan County, Ionia County, Newaygo County, Mecosta County, Lake County, Midland County, Ogemaw County, Osceola County, Tuscola County;',\n",
              "       'Louisiana: De Soto Parish;', 'Iowa: Wisconsin:',\n",
              "       'Iowa: Minnesota:', 'Nebraska: Burt County;',\n",
              "       'Michigan: Antrim County, Kalkaska County, Grand Traverse County, Leelanau County, Benzie County, Manistee County, Wexford County, Missaukee County, Lake County, Osceola County, Oceana County, Newaygo County, Mecosta County, Emmet County, Charlevoix County, Cheboygan County, Clare County, Roscommon County, Crawford County, Ogemaw County;',\n",
              "       'Massachusetts: Suffolk County[13];', 'Texas: Rusk County;',\n",
              "       'Missouri: Adair County, Putnam County;',\n",
              "       'Georgia: Clayton County;', 'New Hampshire: Merrimack County;',\n",
              "       'Georgia: Alabama: Mississippi:',\n",
              "       'Massachusetts: Plymouth County;',\n",
              "       'Texas: Cameron County, Willacy County;',\n",
              "       'Mississippi: Adams County;', 'Indiana: Kentucky: Ohio:',\n",
              "       'Pennsylvania: Bucks County;', 'Texas: Potter County; New Mexico:',\n",
              "       'New York: Orange County;',\n",
              "       'North Carolina: Jackson County; South Carolina: Greenville County;',\n",
              "       'Georgia: Alabama:', 'Mississippi: Arkansas: Louisiana: Texas:',\n",
              "       'Pennsylvania: Westmoreland County;',\n",
              "       'New York: Dutchess County, Greene County;',\n",
              "       'Colorado: Douglas County, Pueblo County, El Paso County, Prowers County;',\n",
              "       'Connecticut: Massachusetts: New Hampshire: Rhode Island: Vermont: Maine:',\n",
              "       'West Virginia: Monongalia County;', 'Tennessee: Shelby County;',\n",
              "       'New York: Ulster County;', 'Rhode Island: Providence County[13];',\n",
              "       'Connecticut: Maine: Massachusetts: New Hampshire: Vermont: Rhode Island:',\n",
              "       'California: San Bernardino County, Kern County, Solano County, San Diego County;',\n",
              "       'Texas: Travis County; California: San Diego County;',\n",
              "       'Texas: Mitchell County;',\n",
              "       'Indiana: Marion County, Shelby County, Hendricks County;',\n",
              "       'Illinois: DuPage County;', 'Georgia: Terrell County;',\n",
              "       'California: Lake County;', 'North Carolina: Durham County;',\n",
              "       'Florida: Palm Beach County;',\n",
              "       'Texas: Anderson County, Bell County, Bosque County, Comanche County, Coryell County, Falls County, Freestone County, Hamilton County, Henderson County, Hill County, Lampasas County, Leon County, Limestone County, McLennan County, Milam County, Mills County, Robertson County, Collin County, Cooke County, Dallas County, Denton County, Ellis County, Erath County, Fannin County, Grayson County, Hood County, Hunt County, Johnson County, Kaufman County, Navarro County, Parker County, Rains County, Rockwall County, Somervell County, Tarrant County, Van Zandt County, Wise County;',\n",
              "       \"Maryland: Prince George's County;\", 'South Dakota:',\n",
              "       'Vermont: Chittenden County;', 'Louisiana: Mississippi: Arkansas:',\n",
              "       'Michigan: Huron County, Tuscola County, St. Clair County, Washtenaw County, Macomb County, Wayne County, Monroe County, Oakland County, Livingston County;',\n",
              "       'Montana: Toole County; Florida: Palm Beach County;',\n",
              "       'Georgia: Alabama: Mississippi: Florida:',\n",
              "       'Oregon: Multnomah County, Clackamas County, Marion County, Yamhill County, Washington County;',\n",
              "       'Maryland: Calvert County;', 'Arkansas: Ouachita County;',\n",
              "       'Louisiana: Iberia Parish;', 'Iowa: Polk County; Illinois:',\n",
              "       'New York: Broome County, Chemung County, Chenango County, Clinton County, Columbia County, Cortland County, Delaware County, Dutchess County, Erie County, Essex County, Greene County, Hamilton County, Herkimer County, Madison County, Oneida County, Otsego County, Putnam County, Saratoga County, Schoharie County, Schuyler County, Steuben County, Sullivan County, Tioga County, Tompkins County, Ulster County, Westchester County;',\n",
              "       'North Dakota: Mountrail County, Williams County, Ward County, Burke County, Bottineau County, McLean County, Walsh County, Bowman County, Stark County, Dunn County, Mercer County; Montana: Wibaux County, Richland County;',\n",
              "       'Iowa: Polk County, Warren County; Illinois:',\n",
              "       'Ohio: Muskingum County;', 'New Hampshire: Carroll County;',\n",
              "       'Iowa: Clinton County;', 'South Dakota: Davison County;',\n",
              "       'Mississippi: Harrison County;', 'Mississippi: Lamar County;',\n",
              "       'Texas: Frio County;',\n",
              "       'Missouri: Barry County, Dade County, Lawrence County;',\n",
              "       'Texas: Collin County, Dallas County, Denton County, Ellis County, Grayson County, Henderson County, Hunt County, Kaufman County, Navarro County, Rockwall County, Smith County, Tarrant County, Van Zandt County;',\n",
              "       'California: Solano County, Santa Clara County;',\n",
              "       'New Mexico: Roosevelt County;', 'Idaho: Madison County;',\n",
              "       'Pennsylvania: Philadelphia County;',\n",
              "       'New York: Broome County, Monroe County;',\n",
              "       'California: Siskiyou County;',\n",
              "       'Arizona: California: Nevada: New Mexico:',\n",
              "       'Utah: California: Oregon: Umatilla County;',\n",
              "       'Missouri: Clay County, Jackson County; Kansas: Johnson County;',\n",
              "       'Kansas: Missouri: Nebraska:',\n",
              "       'Oregon: Douglas County; Washington: Idaho: Utah: Wyoming:',\n",
              "       'Wisconsin: Outagamie County, Waupaca County, Winnebago County, Brown County, Sheboygan County, Ozaukee County, Waukesha County; Michigan: Iron County;',\n",
              "       'West Virginia: Virginia: Kentucky:',\n",
              "       'New Jersey: Cape May County;', 'Texas: Victoria County;',\n",
              "       'Kentucky: Clark County;', 'California: Amador County;',\n",
              "       'Washington: Pierce County; Oregon: Idaho: Montana:',\n",
              "       'Iowa: Illinois:', 'Virginia: Fluvanna County;',\n",
              "       'Kentucky: Nelson County;',\n",
              "       'Utah: California: Oregon: Douglas County;',\n",
              "       'Oklahoma: Okmulgee County;',\n",
              "       'Maryland: Baltimore County, Carroll County, Harford County;',\n",
              "       'Washington: Oregon: Clatsop County; Idaho: Montana:',\n",
              "       'Colorado: La Plata County;', 'Nebraska: Wayne County;',\n",
              "       'Oregon: Josephine County;',\n",
              "       'Michigan: Muskegon County, Ottawa County, Kent County, Montcalm County, Ionia County, Allegan County, Van Buren County, Kalamazoo County, Barry County, Mason County, Shiawassee County, Ingham County, Genesee County, Saginaw County, Midland County, Wexford County, Grand Traverse County;',\n",
              "       'Pennsylvania: Erie County;', 'California: Santa Barbara County;',\n",
              "       'Minnesota: Wisconsin:',\n",
              "       'Michigan: Wayne County, Washtenaw County, St. Clair County, Macomb County, Monroe County, Oakland County;',\n",
              "       'Michigan: Allegan County, Van Buren County, Barry County, Kalamazoo County, Calhoun County, Jackson County, Calhoun County, Washtenaw County;',\n",
              "       'Maryland: Anne Arundel County, Baltimore County, Baltimore, City of[16];',\n",
              "       'Washington: Kitsap County;', 'Arkansas: Lawrence County;',\n",
              "       'Georgia: Sumter County;', 'Wyoming: Nebraska:',\n",
              "       'Massachusetts: Bristol County;', 'Texas: DeWitt County;',\n",
              "       'Michigan: Ottawa County, Allegan County, Van Buren County, Montcalm County, Kent County, Barry County, Kalamazoo County, St. Joseph County, Branch County, Hillsdale County, Calhoun County, Jackson County, Eaton County, Clinton County, Shiawassee County, Montcalm County, Isabella County, Mecosta County, Midland County;',\n",
              "       'Texas: Collin County;',\n",
              "       'Texas: Tarrant County, Collin County, Dallas County, Ellis County, Kaufman County, Rockwall County, Williamson County, Denton County, Archer County;',\n",
              "       'Indiana: Spencer County;', 'Texas: Fayette County;',\n",
              "       'Oregon: Multnomah County; Washington: Clark County;',\n",
              "       'Texas: Louisiana: Arkansas: Jefferson County; Mississippi:',\n",
              "       'Florida: Pinellas County, Pasco County, Orange County, Lake County;',\n",
              "       'Florida: Alachua County, Bay County, Citrus County, Columbia County, Dixie County, Franklin County, Gilchrist County, Gulf County, Hamilton County, Hardee County, Hernando County, Highlands County, Jefferson County, Lafayette County, Lake County, Levy County, Madison County, Marion County, Orange County, Osceola County, Pasco County, Pinellas County, Polk County, Seminole County, Sumter County, Suwannee County, Taylor County, Volusia County, Wakulla County;',\n",
              "       'Florida: Hillsborough County, Polk County, Pasco County, Pinellas County;',\n",
              "       'Florida: Orange County, Osceola County;',\n",
              "       'Alabama: Barbour County; Virginia:', 'New York: Queens County;',\n",
              "       'Texas: Louisiana: Arkansas: Pope County; Mississippi:',\n",
              "       'Connecticut: Massachusetts: Maine: Rhode Island: New Hampshire: Vermont:',\n",
              "       'Texas: Bee County;', 'California: Trinity County;',\n",
              "       'Massachusetts: Essex County[13];',\n",
              "       'Texas: New Mexico: Chaves County;', 'Washington: Douglas County;',\n",
              "       'Washington: Island County, King County, Kittitas County, Thurston County, Kitsap County, Pierce County, Skagit County, Whatcom County;',\n",
              "       'Michigan: Kalamazoo County, Kent County, Calhoun County, Genesee County, Ottawa County, Muskegon County, Eaton County, Saginaw County, Van Buren County, Hillsdale County, Shiawassee County, Jackson County, Lenawee County, Branch County, Montcalm County, Monroe County, Manistee County, Roscommon County, Clinton County, Ingham County, Gladwin County, Arenac County, Ogemaw County, Iosco County, Alcona County;',\n",
              "       'Michigan: Oakland County, Wayne County, Monroe County, Lapeer County, St. Clair County, Washtenaw County, Macomb County, Tuscola County, Sanilac County, Huron County;',\n",
              "       'Texas: Hockley County;', 'Ohio: Knox County;',\n",
              "       'Oregon: Josephine County; Washington: Idaho: Utah: Wyoming:',\n",
              "       'Washington: Cowlitz County;', 'Maine: Penobscot County;',\n",
              "       'Maryland: Delaware: New Jersey: Pennsylvania: Illinois: District of Columbia:',\n",
              "       'Maryland: Montgomery County;',\n",
              "       'Maine: Massachusetts: Connecticut: Rhode Island: Vermont: New Hampshire:',\n",
              "       'Alabama: Mississippi: Georgia:', 'North Carolina: Moore County;',\n",
              "       'Kentucky: Jefferson County;', 'Georgia: Heard County;',\n",
              "       'Georgia: Bartow County;', 'Indiana: Vigo County;',\n",
              "       'Missouri: Greene County, Dunklin County;',\n",
              "       'Washington: Spokane County;', 'Florida: Hillsborough County;',\n",
              "       'Montana: Richland County;',\n",
              "       'Massachusetts: Vermont: New Hampshire: Maine:',\n",
              "       'Texas: Kaufman County;',\n",
              "       'Tennessee: Alabama: Mississippi: Kentucky:',\n",
              "       'Washington: King County, Island County, Kittitas County, Kitsap County, Pierce County, Skagit County, Thurston County, Whatcom County;',\n",
              "       'Oregon: Clackamas County, Columbia County, Marion County, Multnomah County, Polk County;',\n",
              "       'Oregon: Sherman County;',\n",
              "       'Arkansas: Union County; Louisiana: Ouachita Parish;',\n",
              "       'Louisiana: Concordia Parish;', 'Ohio: Sandusky County;',\n",
              "       'Texas: Jasper County, Tyler County;', 'Texas: Bowie County;',\n",
              "       'South Carolina: Sumter County;', 'Michigan: Oakland County;',\n",
              "       'Arkansas: Texas: Louisiana: Mississippi:',\n",
              "       'Illinois: Franklin County;',\n",
              "       'Texas: Dallas County, Anderson County, Bosque County, Collin County, Comanche County, Cooke County, Delta County, Denton County, Ellis County, Erath County, Fannin County, Freestone County, Hamilton County, Henderson County, Hill County, Hood County, Hopkins County, Hunt County, Jack County, Johnson County, Kaufman County, Lamar County, Navarro County, Palo Pinto County, Parker County, Rains County, Red River County, Rockwall County, Somervell County, Tarrant County, Van Zandt County, Wichita County, Wise County;',\n",
              "       'Arkansas: Mississippi: Texas:', 'Maryland: Cecil County;',\n",
              "       'Oregon: Washington: Yakima County; Idaho: Utah: Wyoming:',\n",
              "       'Ohio: Gallia County;', 'Maryland:',\n",
              "       'Wisconsin: La Crosse County;', 'Pennsylvania: Lawrence County;',\n",
              "       'Texas: Taylor County;', 'Wisconsin: Chippewa County;',\n",
              "       'Florida: Clay County;', 'Florida: Orange County;',\n",
              "       'Michigan: Van Buren County, Kalamazoo County, St. Joseph County, Calhoun County, Branch County, Hillsdale County, Jackson County, Washtenaw County, Monroe County, Lenawee County, Ingham County, Barry County, Allegan County, Ottawa County, Eaton County, Ingham County, Shiawassee County, Clinton County;',\n",
              "       'Wisconsin: Kenosha County, Racine County, Milwaukee County, Walworth County, Jefferson County, Waukesha County; Michigan:',\n",
              "       'Florida: Pasco County;',\n",
              "       'Michigan: Newaygo County, Oceana County, Ionia County, Montcalm County, Jackson County, Van Buren County, Washtenaw County, Hillsdale County, Lenawee County;',\n",
              "       'Wisconsin: Outagamie County;',\n",
              "       'Texas: Montague County, Cooke County, Grayson County, Fannin County, Lamar County, Young County, Jack County, Wise County, Denton County, Collin County, Hunt County, Delta County, Hopkins County, Stephens County, Palo Pinto County, Parker County, Tarrant County, Dallas County, Rockwall County, Kaufman County, Van Zandt County, Rains County, Eastland County, Erath County, Hood County, Somervell County, Johnson County, Ellis County, Henderson County, Comanche County, Mills County, Hamilton County, Bosque County, Hill County, Navarro County, Freestone County, Anderson County, Lampasas County, Coryell County, Bell County, McLennan County, Falls County, Limestone County, Leon County, Milam County, Robertson County;',\n",
              "       'Texas: Tarrant County;',\n",
              "       'Kentucky: Oldham County, Jefferson County, Fayette County, Franklin County, Hardin County, Hart County, Hopkins County, Jessamine County, Muhlenberg County, Nelson County, Scott County, Shelby County, Spencer County, Washington County, Woodford County, Bullitt County, Meade County, Lyon County, LaRue County, Henry County, Grayson County, Boyle County, Christian County, Anderson County; Virginia: Wise County;',\n",
              "       'Kentucky: Oldham County, Jefferson County, Fayette County, Franklin County, Hardin County, Hart County, Hopkins County, Jessamine County, Muhlenberg County, Nelson County, Scott County, Shelby County, Spencer County, Washington County, Woodford County, Bullitt County, Meade County, Lyon County, LaRue County, Henry County, Grayson County, Boyle County, Christian County, Anderson County; Virginia: Williamsburg, City of[23], Wise County;',\n",
              "       'Georgia: Fulton County;',\n",
              "       'West Virginia: Randolph County, Barbour County;',\n",
              "       'Virginia: Orange County;', 'Texas: Lubbock County; New Mexico:',\n",
              "       'Wisconsin: Walworth County, Waukesha County, Milwaukee County, Racine County, Ozaukee County, Kenosha County;',\n",
              "       'Texas: Webb County, Hidalgo County;',\n",
              "       'Connecticut: Massachusetts: Vermont: Rhode Island: New Hampshire: Maine:',\n",
              "       'Pennsylvania: Greene County;', 'Ohio: West Virginia: Virginia:',\n",
              "       'Washington: Oregon: Josephine County; California: Idaho: Utah: Wyoming: Montana:',\n",
              "       'Texas: Hartley County;', 'Nebraska: Kearney County;',\n",
              "       'Pennsylvania: Indiana County;',\n",
              "       'Minnesota: Ramsey County, Hennepin County, Dakota County, Washington County;',\n",
              "       'Alabama: Walker County;',\n",
              "       'Colorado: Wyoming: Nebraska: Arizona: New Mexico: Utah: California:',\n",
              "       'Texas: Kentucky: New Mexico: Washington: Oregon: Arizona: California: Nebraska: Pennsylvania: Ohio:',\n",
              "       'South Carolina: Aiken County;', 'South Dakota: Stanley County;',\n",
              "       'Texas: Calhoun County;', 'Washington: Mason County;',\n",
              "       'Idaho: Bonner County;', 'Texas: Blanco County;',\n",
              "       'Texas: Hidalgo County, Cameron County, Willacy County, Starr County;',\n",
              "       'Texas: San Patricio County;', 'Washington: Whatcom County;',\n",
              "       'Georgia: Gwinnett County;', 'Alabama: Tuscaloosa County;',\n",
              "       'Tennessee', 'Georgia, Alabama', 'Wisconsin, Michigan',\n",
              "       'Arkansas, Mississippi', 'Washington, Idaho, Montana', 'Indiana',\n",
              "       'Georgia', 'Louisiana', 'Connecticut', 'Nebraska: Sarpy County;',\n",
              "       'Texas: Randall County; New Mexico:',\n",
              "       'Mississippi: Washington County, Sharkey County, Sunflower County;',\n",
              "       'Michigan: Oakland County, Wayne County, Macomb County, Washtenaw County, Livingston County;',\n",
              "       'Idaho: Kootenai County;',\n",
              "       'Wisconsin: Jefferson County, Waukesha County, Milwaukee County, Sheboygan County, Washington County, Ozaukee County, Walworth County, Kenosha County, Racine County; Michigan:',\n",
              "       'Illinois: Winnebago County, Cook County, Will County, DeKalb County, Kendall County;',\n",
              "       'Maryland: Harford County;', 'Massachusetts: Franklin County[13];',\n",
              "       'Texas: New Mexico: Lea County;', 'Massachusetts: Rhode Island:',\n",
              "       'Louisiana: East Baton Rouge Parish;',\n",
              "       'Texas: Dallas County, Tarrant County, McLennan County, Angelina County, Bell County, Williamson County, Smith County;',\n",
              "       'New York: Suffolk County;', 'Illinois: Grundy County;',\n",
              "       'Connecticut: Massachusetts: Maine: Rhode Island: Vermont: New Hampshire:',\n",
              "       'Texas: Tarrant County, Dallas County;',\n",
              "       'Michigan: Gratiot County;', 'Missouri: St. Louis County;',\n",
              "       'Texas: New Mexico: Lea County, Eddy County;',\n",
              "       'New Jersey: Essex County;', 'Pennsylvania: Armstrong County;',\n",
              "       'Texas: Lamb County; New Mexico:', 'Minnesota: Goodhue County;',\n",
              "       'California: San Joaquin County;', 'Texas: Jasper County;',\n",
              "       'Oklahoma: Texas County;', 'Oregon: Jefferson County;',\n",
              "       'South Carolina: Oconee County;',\n",
              "       'Oregon: Washington: Idaho: Bannock County; Utah: Wyoming:',\n",
              "       'Oklahoma: Louisiana: Texas:',\n",
              "       'Utah: Salt Lake County; California: Oregon:',\n",
              "       'Florida: Miami-Dade County, Broward County;',\n",
              "       'Colorado: Douglas County;', 'California: Sutter County;',\n",
              "       'Texas: Callahan County;', 'Pacificorp', 'Tampa Electric Company',\n",
              "       'Pacific Gas & Electric Co', 'Pacific Gas and Electric',\n",
              "       'Tucson Electric Power', 'Seminole Electric Cooperative Inc',\n",
              "       'GenOn Energy – New Castle Power LLC', 'Orsted Americas',\n",
              "       'New York State Electric & Gas',\n",
              "       'WEC Energy Group (WEPCO, WPSC, UMERC, WEP-MIUP)',\n",
              "       'Apex Generating Station', 'Bonneville Power Administration',\n",
              "       'Austin Energy', 'Oncor Electric Delivery Company LLC',\n",
              "       'Western Area Power Administration - Upper Great Plains Region - (NCR01036)',\n",
              "       'Consolidated Edison of New York, Inc.', 'Consumers Energy Co',\n",
              "       'LUMA Energy', 'ISO New England', 'First Energy Solutions Corp.',\n",
              "       'NV Energy', 'Otter Tail Power Co',\n",
              "       'American Electric Power (Regulated Generation)',\n",
              "       'Lower Colorado River Authority'], dtype=object)"
            ]
          },
          "metadata": {},
          "execution_count": 51
        }
      ]
    },
    {
      "cell_type": "code",
      "source": [
        "#getting only state names\n",
        "combined_df['Area Affected'][combined_df['Area Affected'].str.extract('^([A-Za-z ]+):',expand=False).isna() == False] = combined_df['Area Affected'].str.extract('^([A-Za-z ]+):',expand=False)"
      ],
      "metadata": {
        "id": "1MJmdgGXVik9"
      },
      "execution_count": 52,
      "outputs": []
    },
    {
      "cell_type": "code",
      "source": [
        "combined_df['Area Affected'].unique()"
      ],
      "metadata": {
        "colab": {
          "base_uri": "https://localhost:8080/"
        },
        "id": "g1-hfplZZQvu",
        "outputId": "8b56d0ca-b454-4ce4-e023-2eeb2c991f08"
      },
      "execution_count": 53,
      "outputs": [
        {
          "output_type": "execute_result",
          "data": {
            "text/plain": [
              "array(['Washington', 'California', 'Michigan', 'New Mexico', 'Montana',\n",
              "       'Maine', 'Missouri', 'New Hampshire', 'North Carolina',\n",
              "       'Pennsylvania', 'Texas', 'Nebraska', 'Colorado', 'Ohio', 'Utah',\n",
              "       'Louisiana', 'Illinois', 'Nevada', 'Massachusetts', 'Arkansas',\n",
              "       'New Jersey', 'Wisconsin, Minnesota, Iowa, Illinois', 'Virginia',\n",
              "       'Ohio, Virginia, West Virginia',\n",
              "       'Connecticut, Massachusetts, New Hampshire, Maine, Vermont, Rhode Island',\n",
              "       'Iowa', 'South Carolina', 'Oklahoma, Arkansas, Louisiana',\n",
              "       'Oklahoma', 'Oregon', 'New York', 'Minnesota', 'Mississippi',\n",
              "       'Arizona', 'Alabama', 'Indiana', 'West Virginia', 'Kentucky',\n",
              "       'North Dakota', 'Idaho', 'South Dakota', 'Wisconsin',\n",
              "       'District of Columbia', 'Maryland', 'Wyoming', 'Tennessee',\n",
              "       'Kansas', 'Connecticut', 'Florida',\n",
              "       'Northern and Central California;', 'Western NY', 'Delaware',\n",
              "       'Georgia', 'Central Oklahoma', 'Texas panhandle, SE NM', 'Vermont',\n",
              "       'Rhode Island', 'Georgia, Alabama', 'Wisconsin, Michigan',\n",
              "       'Arkansas, Mississippi', 'Washington, Idaho, Montana',\n",
              "       'Pacificorp', 'Tampa Electric Company',\n",
              "       'Pacific Gas & Electric Co', 'Pacific Gas and Electric',\n",
              "       'Tucson Electric Power', 'Seminole Electric Cooperative Inc',\n",
              "       'GenOn Energy – New Castle Power LLC', 'Orsted Americas',\n",
              "       'New York State Electric & Gas',\n",
              "       'WEC Energy Group (WEPCO, WPSC, UMERC, WEP-MIUP)',\n",
              "       'Apex Generating Station', 'Bonneville Power Administration',\n",
              "       'Austin Energy', 'Oncor Electric Delivery Company LLC',\n",
              "       'Western Area Power Administration - Upper Great Plains Region - (NCR01036)',\n",
              "       'Consolidated Edison of New York, Inc.', 'Consumers Energy Co',\n",
              "       'LUMA Energy', 'ISO New England', 'First Energy Solutions Corp.',\n",
              "       'NV Energy', 'Otter Tail Power Co',\n",
              "       'American Electric Power (Regulated Generation)',\n",
              "       'Lower Colorado River Authority'], dtype=object)"
            ]
          },
          "metadata": {},
          "execution_count": 53
        }
      ]
    },
    {
      "cell_type": "markdown",
      "source": [
        "###Correct Demand Loss column"
      ],
      "metadata": {
        "id": "Ars6qaD0xVmd"
      }
    },
    {
      "cell_type": "code",
      "source": [
        "combined_df['Demand Loss (MW)'].unique()"
      ],
      "metadata": {
        "colab": {
          "base_uri": "https://localhost:8080/"
        },
        "id": "rLTOzr-KKbTc",
        "outputId": "05e72ff1-6988-4ba8-b0dd-10f657e6caf1"
      },
      "execution_count": 54,
      "outputs": [
        {
          "output_type": "execute_result",
          "data": {
            "text/plain": [
              "array(['0', '230', '300', <NA>, '11', '133200', '190', '8', '42', '3',\n",
              "       '182', '740', '50', '58', '5', '537', '116', '150', '7', '29',\n",
              "       '691', '30', '20', '347', '982', '115', '47', '53', '3189', '26',\n",
              "       '452', '200', '60', '49', '54', '66', '80', '752', '259', '271',\n",
              "       '885', '25', '3736', '2400', '3190', '285', '1500', '72', '178',\n",
              "       '35', '2', '1', '18', '22', '4', '219', '87', '540', '75', '500',\n",
              "       '97', '91', '19', '675', '40', '165', '6062', '237', '412', '122',\n",
              "       '448', '552', '375', '14', '33480', '32', '36', '475', '21', '125',\n",
              "       '3907', '2000', '311', '89', '550', '1400', '950', '218', '560',\n",
              "       '101', '1120', '1419', '459', '795', '409', '712', '829', '7800',\n",
              "       '917', '205', '1200', '7500', '48', '581', '573', '100', '208',\n",
              "       '350', '2900', '986', '8180', '1071', '610', '2859', '265', '236',\n",
              "       '337', '183', '62', '1218', '64', '253', '93', '132', '286', '298',\n",
              "       0, '6', '185', '411', '45', '841', '13', '164', '7214', '461',\n",
              "       '3000', '4966', '524', '724', '800', '107', '360', '613', '126',\n",
              "       '1420', '700', '538', '168', '31', '130', '153', '402', '400',\n",
              "       '43', '137', '175', '1850', '23', '1435', '90', '44', '450', '88',\n",
              "       '810', '9000', '220', '15', '95', '24', '234', '796', '37', '8000',\n",
              "       '1905', '210', '9', '67', '10', '177', '120', '381', '283', '436',\n",
              "       '246', '139', '78', '157', '73', '3140', '9290', '1000', '480',\n",
              "       '17', '74', '13437', '14000', '373', '4500', '242', '272', '8800',\n",
              "       '8600', '257', '258', '8250', '750', '69', '34', '113', '386',\n",
              "       '99', '2600', '1883', '3200', '4615', '960', '160', '432', '458',\n",
              "       '1158', '370', '6200', '143', '38', '346', '965', '250', '621',\n",
              "       '5800', '1711', '39', 8, 64, 166, 2200, 5, 175, 17, 1200, 640, 130,\n",
              "       820, 213, 18, 103, 51, 72, 140, 20, 120, 220, 126, 80, 115, 77, 65,\n",
              "       105, 14], dtype=object)"
            ]
          },
          "metadata": {},
          "execution_count": 54
        }
      ]
    },
    {
      "cell_type": "code",
      "source": [
        "combined_df['Demand Loss (MW)'] = combined_df['Demand Loss (MW)'].replace('Unknown', pd.NA, regex=True)\n",
        "combined_df['Demand Loss (MW)'] = pd.to_numeric(combined_df['Demand Loss (MW)'], errors='coerce')\n",
        "combined_df['Demand Loss (MW)'] = combined_df['Demand Loss (MW)'].astype('Int64')"
      ],
      "metadata": {
        "id": "TCiFwQv1MYs3"
      },
      "execution_count": 55,
      "outputs": []
    },
    {
      "cell_type": "markdown",
      "source": [
        "###Correct Number of customers affected column"
      ],
      "metadata": {
        "id": "pUonU__3xdlO"
      }
    },
    {
      "cell_type": "code",
      "source": [
        "combined_df[\"Number of Customers Affected\"].unique()"
      ],
      "metadata": {
        "colab": {
          "base_uri": "https://localhost:8080/"
        },
        "id": "PzhIxz12JGNv",
        "outputId": "e824c963-efcc-4856-ba93-065ae7087981"
      },
      "execution_count": 56,
      "outputs": [
        {
          "output_type": "execute_result",
          "data": {
            "text/plain": [
              "array([<NA>, '230000', '90382', '0', '2', '112530', '116600', '126700',\n",
              "       '1', '33200', '3370', '233000', '50940', '121000', '132000',\n",
              "       '118781', '137216', '157274', '94048', '115000', '72332', '54290',\n",
              "       '58379', '154124', '66000', '231956', '60467', '75290', '34695',\n",
              "       '51366', '5830', '54071', '65844', '238015', '61008', '68000',\n",
              "       '100000', '10961', '70000', '55017', '558000', '30907', '340000',\n",
              "       '82045', '60000', '50000', '34637', '265000', '16199', '56451',\n",
              "       '52498', '3000', '57000', '2043', '63000', '55730', '72669',\n",
              "       '400000', '160000', '45000', '165000', '95600', '25', '54535',\n",
              "       '13720', '5600', '61318', '86373', '61000', '1397', '95000',\n",
              "       '103779', '2000', '116000', '172278', '77000', '54000', '69524',\n",
              "       '50072', '737808', '101683', '972000', '82124', '114402', '53943',\n",
              "       '8000', '80066', '66325', '131', '93000', '107000', '400', '392',\n",
              "       '7541', '66475', '68138', '30715', '67864', '3120', '130000',\n",
              "       '284256', '89500', '123359', '7500', '52000', '87000', '145000',\n",
              "       '3136', '15864', '110800', '73000', '1018', '51026', '11964',\n",
              "       '1558', '57744', '6814', '78314', '82509', '95318', '37991',\n",
              "       '51000', '104000', '62828', '63289', '216400', '120000', '72233',\n",
              "       '68476', '77341', '55184', '52163', '945', '49999', '77933',\n",
              "       '146660', '78007', '52', '6000', '108190', '3745', '382000',\n",
              "       '273269', '708000', '78079', '237000', '270000', '85822', '78109',\n",
              "       '2013', '94700', '48000', '10000', '158500', nan, '14096', '11000',\n",
              "       '84000', '201208', '420000', '75000', '116818', '508000', '788000',\n",
              "       '76120', '1188247', '271119', '125987', '137103', '19785',\n",
              "       '187068', '135000', '95300', '856000', '250000', '300000', '57060',\n",
              "       '220000', '12671', '8', '124266', '1400000', '238', '16107',\n",
              "       '615992', '47927', '60687', '20000', '72000', '172000', '71500',\n",
              "       '21000', '103000', '34096', '77600', '4350', '13000', '102267',\n",
              "       '155000', '39089', '186600', '132200', '477966', '76000', '55506',\n",
              "       '4', '370000', '447000', '136833', '235000', '35478', '481268',\n",
              "       '72707', '461580', '90000', '85677', '123361', '96809', '150000',\n",
              "       '57327', '62408', '577', '170190', '51686', '271231', '76234',\n",
              "       '159239', '17000', '68114', '19000', '5803', '3825', '1908',\n",
              "       '188000', '58000', '320000', '94231', '62000', '70417', '173746',\n",
              "       '124888', '255715', '6102', '3', '1400', '2000000', '300187',\n",
              "       '37583', '55097', '129000', '125484', '1390000', '175000',\n",
              "       '219306', '154000', '29942', '25000', '200000', '222000', '81100',\n",
              "       '840000', '18150', '54167', '67000', '69260', '24000', '7381',\n",
              "       '148000', '916', '4200', '18860', '104027', '24457', '125000',\n",
              "       '35000', '655', '9800', '1841', '51806', '151852', '7621', '1003',\n",
              "       '982', '53000', '53103', '34509', '136827', '47000', '211500',\n",
              "       '1300000', '212500', '81503', '3500', '225949', '65888', '9400',\n",
              "       '372600', '318761', '700000', '92109', '101000', '71000', '418',\n",
              "       '28134', '65000', '84987', '91315', '252740', '80000', '59649',\n",
              "       '204280', '66589', '705415', '4000', '82000', '136000', '5000',\n",
              "       '110000', '59000', '169000', '350', '81406', '107344', '182410',\n",
              "       '159947', '65994', '174000', '134000', '258000', '156000',\n",
              "       '200675', '11770', '115830', '845', '1706', '60424', '142000',\n",
              "       '40885', '51289', '74638', '61113', '12000', '8124', '255000',\n",
              "       '67404', '7047', '1405', '5855', '19380', '3958', '20423',\n",
              "       '170000', '66448', '22000', '16299', '73717', '1337', '2429',\n",
              "       '262268', '97000', '67754', '84033', '18430', '22400', '105000',\n",
              "       '52172', 91188, '39094', '445', '162551', '77908', '44000',\n",
              "       '91056', '15604', '2491', '1079', '3001', '104700', '4836', '4724',\n",
              "       '50200', '93750', '91264', '75500', '62464', '140464', '6385',\n",
              "       '197740', '190000', '1521', '676000', '116937', '291361', '15797',\n",
              "       '154100', '108930', '48323', '76388', '16225', '7551', '109865',\n",
              "       '214000', '158450', '1775', '1454', '87500', '6337', '113000',\n",
              "       '54110', '583', '36600', '500000', '66519', '108900', '33010',\n",
              "       '17600', '295000', '22436', '13500', '83060', '11600', '161000',\n",
              "       '3509', '6849', '1631', '185434', '9823', '162000', '41000',\n",
              "       '100731', '60958', '360000', '173879', '74426', '2547', '261043',\n",
              "       '623358', '153555', '470000', '12014', '346000', '57186', '48384',\n",
              "       '33', '83000', '11479', '67893', '160801', '58368', '118000',\n",
              "       '3900', '168419', 54000, 0, 378, 327, 2, 120000, 5200, 70000,\n",
              "       64732, 140000, 6242, 163156, 642, 216000, 90354, 35257, 32781,\n",
              "       246000, 85000, 122921, 52098, 61000, 53630, 54158, 72173, 9082,\n",
              "       23380, 130000, 75000, 190000, 114000, 153000, 6, 26, 1, 126197,\n",
              "       230330, 127585, 170316, 730000, 50204, 37850, 36100, 8000],\n",
              "      dtype=object)"
            ]
          },
          "metadata": {},
          "execution_count": 56
        }
      ]
    },
    {
      "cell_type": "code",
      "source": [
        "combined_df['Number of Customers Affected'] = combined_df['Number of Customers Affected'].replace('Unknown', pd.NA, regex=True)\n",
        "combined_df['Number of Customers Affected'] = pd.to_numeric(combined_df['Number of Customers Affected'], errors='coerce')\n",
        "combined_df['Number of Customers Affected'] = combined_df['Number of Customers Affected'].astype('Int64')"
      ],
      "metadata": {
        "id": "iKwibfnRM_Xh"
      },
      "execution_count": 57,
      "outputs": []
    },
    {
      "cell_type": "code",
      "source": [
        "combined_df[\"Number of Customers Affected\"].unique()"
      ],
      "metadata": {
        "colab": {
          "base_uri": "https://localhost:8080/"
        },
        "id": "1R-GZv8pNz1m",
        "outputId": "16f35675-19a6-4b2f-b4fb-2c8c5e713abc"
      },
      "execution_count": 58,
      "outputs": [
        {
          "output_type": "execute_result",
          "data": {
            "text/plain": [
              "<IntegerArray>\n",
              "[  <NA>, 230000,  90382,      0,      2, 112530, 116600, 126700,      1,\n",
              "  33200,\n",
              " ...\n",
              "      6,     26, 126197, 230330, 127585, 170316, 730000,  50204,  37850,\n",
              "  36100]\n",
              "Length: 484, dtype: Int64"
            ]
          },
          "metadata": {},
          "execution_count": 58
        }
      ]
    },
    {
      "cell_type": "markdown",
      "source": [
        "##Save dataframe to csv named `electricity_disturbance_data.csv`"
      ],
      "metadata": {
        "id": "bFZhxa_ax515"
      }
    },
    {
      "cell_type": "code",
      "source": [
        "combined_df.info()"
      ],
      "metadata": {
        "colab": {
          "base_uri": "https://localhost:8080/"
        },
        "id": "qrxd-OkCZjsv",
        "outputId": "0d8de422-c1a2-440d-ee7d-cd00f298378c"
      },
      "execution_count": 59,
      "outputs": [
        {
          "output_type": "stream",
          "name": "stdout",
          "text": [
            "<class 'pandas.core.frame.DataFrame'>\n",
            "Index: 1769 entries, 0 to 1785\n",
            "Data columns (total 9 columns):\n",
            " #   Column                        Non-Null Count  Dtype         \n",
            "---  ------                        --------------  -----         \n",
            " 0   Month                         1769 non-null   object        \n",
            " 1   Area Affected                 1769 non-null   object        \n",
            " 2   Event Type                    1757 non-null   object        \n",
            " 3   Demand Loss (MW)              1280 non-null   Int64         \n",
            " 4   Number of Customers Affected  1549 non-null   Int64         \n",
            " 5   Year                          1769 non-null   int64         \n",
            " 6   Datetime Event Began          1737 non-null   datetime64[ns]\n",
            " 7   Datetime of Restoration       1524 non-null   datetime64[ns]\n",
            " 8   Event Duration (hours)        1497 non-null   Int64         \n",
            "dtypes: Int64(3), datetime64[ns](2), int64(1), object(3)\n",
            "memory usage: 143.4+ KB\n"
          ]
        }
      ]
    },
    {
      "cell_type": "code",
      "source": [
        "combined_df.to_csv('/content/electricity_disturbance_data.csv',index=False)"
      ],
      "metadata": {
        "id": "RumT2yULknGR"
      },
      "execution_count": 60,
      "outputs": []
    }
  ]
}